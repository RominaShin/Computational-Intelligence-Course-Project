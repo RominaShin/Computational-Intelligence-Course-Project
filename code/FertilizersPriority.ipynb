{
 "cells": [
  {
   "cell_type": "markdown",
   "source": [
    "<h1 style='direction : rtl;font-family:Calibri'>\n",
    "انتخاب کودهای جدید و ساخت شبکه های جدید LSTM بر مبنای اولویت انتخاب کود بر اساس دسترس پذیری\n",
    "</h1>"
   ],
   "metadata": {
    "collapsed": false
   }
  },
  {
   "cell_type": "markdown",
   "source": [
    "<h4 style='direction : rtl;font-family:Calibri'>\n",
    "برای ساخت مدل بر اساس اولویت انتخاب کود در مجموعه چند کشور نیاز به دیتاست های import,Agriculture,production نیاز داریم.\n",
    "همچنین بر اساس تحلیل جدید که روی داده ها دوباره انجام دادیم(مطابق مراحل پایین)مجموعه کشورهای Bangladesh', 'Bhutan', 'Brunei Darussalam', 'India', 'Indonesia',\n",
    "       'Iran (Islamic Republic of)', 'Iraq', 'Israel', 'Japan',\n",
    "       'Kazakhstan', 'Kyrgyzstan', 'Maldives', 'Nepal', 'Pakistan',\n",
    "       'Philippines', 'Republic of Korea', 'Saudi Arabia', 'Turkey' انتخاب شدند.\n",
    "4 کود که بیشترین تولید و مصرف کشاورزی را در میان سایر کودهای این کشورها داشتند گزینش کردیم.\n",
    "شامل: و'others'وSuperphosphates above 35%'و'Superphosphatesو 'Urea'\n",
    "<br>\n",
    "مدلسازی برای انتخاب دسترس پذیری در هر کشور بر اساس کشورها و کودهای ذکر شده در بالا صورت میگیرد.\n",
    "</h4>\n",
    "    "
   ],
   "metadata": {
    "collapsed": false
   }
  },
  {
   "cell_type": "markdown",
   "source": [
    "---"
   ],
   "metadata": {
    "collapsed": false
   }
  },
  {
   "cell_type": "code",
   "execution_count": 3,
   "outputs": [],
   "source": [
    "import numpy as np\n",
    "import pandas as pd\n",
    "import matplotlib.pyplot as plt\n",
    "import seaborn as sns"
   ],
   "metadata": {
    "collapsed": false,
    "pycharm": {
     "name": "#%%\n"
    }
   }
  },
  {
   "cell_type": "code",
   "execution_count": 4,
   "outputs": [],
   "source": [
    "import os\n",
    "os.chdir('c:\\\\Users\\\\ASUS\\\\Projects\\\\CI')"
   ],
   "metadata": {
    "collapsed": false,
    "pycharm": {
     "name": "#%%\n"
    }
   }
  },
  {
   "cell_type": "code",
   "execution_count": 5,
   "outputs": [],
   "source": [
    "df = pd.read_csv('Asia.csv',encoding='latin-1',index_col='Year')\n",
    "df = df.drop('Flag',axis=1)"
   ],
   "metadata": {
    "collapsed": false,
    "pycharm": {
     "name": "#%%\n"
    }
   }
  },
  {
   "cell_type": "code",
   "execution_count": 6,
   "outputs": [
    {
     "data": {
      "text/plain": "             Area                Item          Element  Value\nYear                                                         \n2011  Afghanistan  Ammonia, anhydrous  Import Quantity   4.49\n2014  Afghanistan  Ammonia, anhydrous  Import Quantity   2.00\n2017  Afghanistan  Ammonia, anhydrous  Import Quantity   2.07\n2011  Afghanistan  Ammonia, anhydrous     Import Value   2.69\n2014  Afghanistan  Ammonia, anhydrous     Import Value   1.07",
      "text/html": "<div>\n<style scoped>\n    .dataframe tbody tr th:only-of-type {\n        vertical-align: middle;\n    }\n\n    .dataframe tbody tr th {\n        vertical-align: top;\n    }\n\n    .dataframe thead th {\n        text-align: right;\n    }\n</style>\n<table border=\"1\" class=\"dataframe\">\n  <thead>\n    <tr style=\"text-align: right;\">\n      <th></th>\n      <th>Area</th>\n      <th>Item</th>\n      <th>Element</th>\n      <th>Value</th>\n    </tr>\n    <tr>\n      <th>Year</th>\n      <th></th>\n      <th></th>\n      <th></th>\n      <th></th>\n    </tr>\n  </thead>\n  <tbody>\n    <tr>\n      <th>2011</th>\n      <td>Afghanistan</td>\n      <td>Ammonia, anhydrous</td>\n      <td>Import Quantity</td>\n      <td>4.49</td>\n    </tr>\n    <tr>\n      <th>2014</th>\n      <td>Afghanistan</td>\n      <td>Ammonia, anhydrous</td>\n      <td>Import Quantity</td>\n      <td>2.00</td>\n    </tr>\n    <tr>\n      <th>2017</th>\n      <td>Afghanistan</td>\n      <td>Ammonia, anhydrous</td>\n      <td>Import Quantity</td>\n      <td>2.07</td>\n    </tr>\n    <tr>\n      <th>2011</th>\n      <td>Afghanistan</td>\n      <td>Ammonia, anhydrous</td>\n      <td>Import Value</td>\n      <td>2.69</td>\n    </tr>\n    <tr>\n      <th>2014</th>\n      <td>Afghanistan</td>\n      <td>Ammonia, anhydrous</td>\n      <td>Import Value</td>\n      <td>1.07</td>\n    </tr>\n  </tbody>\n</table>\n</div>"
     },
     "execution_count": 6,
     "metadata": {},
     "output_type": "execute_result"
    }
   ],
   "source": [
    "df.head()"
   ],
   "metadata": {
    "collapsed": false,
    "pycharm": {
     "name": "#%%\n"
    }
   }
  },
  {
   "cell_type": "markdown",
   "source": [
    "<h4 style='direction : rtl;font-family:Calibri'>\n",
    "با فرض اینکه در دسترس ترین کود، کودیست که در کشور تولید و مهم ترین کود کودیست که در کشاورزی مصرف میشود، این دو فاکتور را روی دیتاهای موجود اعمال میکنیم تا کشوری با دیتای غنی تر را بیابیم.\n",
    "</h4>"
   ],
   "metadata": {
    "collapsed": false,
    "pycharm": {
     "name": "#%% md\n"
    }
   }
  },
  {
   "cell_type": "code",
   "execution_count": 47,
   "outputs": [],
   "source": [
    "AsiaProd = pd.read_csv('Asia_Production.csv',index_col='Year')"
   ],
   "metadata": {
    "collapsed": false,
    "pycharm": {
     "name": "#%%\n"
    }
   }
  },
  {
   "cell_type": "code",
   "execution_count": 48,
   "outputs": [
    {
     "data": {
      "text/plain": "             Area                        Item    Value\nYear                                                  \n2013  Afghanistan  Diammonium phosphate (DAP)   3346.0\n2014  Afghanistan  Diammonium phosphate (DAP)   3346.0\n2015  Afghanistan  Diammonium phosphate (DAP)   3346.0\n2016  Afghanistan  Diammonium phosphate (DAP)   3346.0\n2002  Afghanistan                        Urea  50900.0",
      "text/html": "<div>\n<style scoped>\n    .dataframe tbody tr th:only-of-type {\n        vertical-align: middle;\n    }\n\n    .dataframe tbody tr th {\n        vertical-align: top;\n    }\n\n    .dataframe thead th {\n        text-align: right;\n    }\n</style>\n<table border=\"1\" class=\"dataframe\">\n  <thead>\n    <tr style=\"text-align: right;\">\n      <th></th>\n      <th>Area</th>\n      <th>Item</th>\n      <th>Value</th>\n    </tr>\n    <tr>\n      <th>Year</th>\n      <th></th>\n      <th></th>\n      <th></th>\n    </tr>\n  </thead>\n  <tbody>\n    <tr>\n      <th>2013</th>\n      <td>Afghanistan</td>\n      <td>Diammonium phosphate (DAP)</td>\n      <td>3346.0</td>\n    </tr>\n    <tr>\n      <th>2014</th>\n      <td>Afghanistan</td>\n      <td>Diammonium phosphate (DAP)</td>\n      <td>3346.0</td>\n    </tr>\n    <tr>\n      <th>2015</th>\n      <td>Afghanistan</td>\n      <td>Diammonium phosphate (DAP)</td>\n      <td>3346.0</td>\n    </tr>\n    <tr>\n      <th>2016</th>\n      <td>Afghanistan</td>\n      <td>Diammonium phosphate (DAP)</td>\n      <td>3346.0</td>\n    </tr>\n    <tr>\n      <th>2002</th>\n      <td>Afghanistan</td>\n      <td>Urea</td>\n      <td>50900.0</td>\n    </tr>\n  </tbody>\n</table>\n</div>"
     },
     "execution_count": 48,
     "metadata": {},
     "output_type": "execute_result"
    }
   ],
   "source": [
    "AsiaProd.head()"
   ],
   "metadata": {
    "collapsed": false,
    "pycharm": {
     "name": "#%%\n"
    }
   }
  },
  {
   "cell_type": "code",
   "execution_count": 9,
   "outputs": [
    {
     "data": {
      "text/plain": "             Area                        Item    Value  Progress\nYear                                                            \n2013  Afghanistan  Diammonium phosphate (DAP)   3346.0       NaN\n2014  Afghanistan  Diammonium phosphate (DAP)   3346.0       0.0\n2015  Afghanistan  Diammonium phosphate (DAP)   3346.0       0.0\n2016  Afghanistan  Diammonium phosphate (DAP)   3346.0       0.0\n2002  Afghanistan                        Urea  50900.0   47554.0",
      "text/html": "<div>\n<style scoped>\n    .dataframe tbody tr th:only-of-type {\n        vertical-align: middle;\n    }\n\n    .dataframe tbody tr th {\n        vertical-align: top;\n    }\n\n    .dataframe thead th {\n        text-align: right;\n    }\n</style>\n<table border=\"1\" class=\"dataframe\">\n  <thead>\n    <tr style=\"text-align: right;\">\n      <th></th>\n      <th>Area</th>\n      <th>Item</th>\n      <th>Value</th>\n      <th>Progress</th>\n    </tr>\n    <tr>\n      <th>Year</th>\n      <th></th>\n      <th></th>\n      <th></th>\n      <th></th>\n    </tr>\n  </thead>\n  <tbody>\n    <tr>\n      <th>2013</th>\n      <td>Afghanistan</td>\n      <td>Diammonium phosphate (DAP)</td>\n      <td>3346.0</td>\n      <td>NaN</td>\n    </tr>\n    <tr>\n      <th>2014</th>\n      <td>Afghanistan</td>\n      <td>Diammonium phosphate (DAP)</td>\n      <td>3346.0</td>\n      <td>0.0</td>\n    </tr>\n    <tr>\n      <th>2015</th>\n      <td>Afghanistan</td>\n      <td>Diammonium phosphate (DAP)</td>\n      <td>3346.0</td>\n      <td>0.0</td>\n    </tr>\n    <tr>\n      <th>2016</th>\n      <td>Afghanistan</td>\n      <td>Diammonium phosphate (DAP)</td>\n      <td>3346.0</td>\n      <td>0.0</td>\n    </tr>\n    <tr>\n      <th>2002</th>\n      <td>Afghanistan</td>\n      <td>Urea</td>\n      <td>50900.0</td>\n      <td>47554.0</td>\n    </tr>\n  </tbody>\n</table>\n</div>"
     },
     "execution_count": 9,
     "metadata": {},
     "output_type": "execute_result"
    }
   ],
   "source": [
    "AsiaProd['Progress'] = AsiaProd['Value'] - AsiaProd['Value'].shift(1)\n",
    "AsiaProd.head()"
   ],
   "metadata": {
    "collapsed": false,
    "pycharm": {
     "name": "#%%\n"
    }
   }
  },
  {
   "cell_type": "code",
   "execution_count": 12,
   "outputs": [
    {
     "data": {
      "text/plain": "                                                            Progress\nArea        Item                                                    \nAfghanistan Diammonium phosphate (DAP)                      0.000000\n            Urea                                         1866.266667\nBahrain     Urea                                        44177.333333\nBangladesh  Ammonium sulphate                         -137800.000000\n            Diammonium phosphate (DAP)                  10777.777778\n...                                                              ...\nUzbekistan  Urea and ammonium nitrate solutions (UAN)  -99064.333333\nViet Nam    Fertilizers n.e.c.                         102351.000000\n            NPK fertilizers                            394337.142857\n            Superphosphates above 35%                 -138262.500000\n            Urea                                        68493.750000\n\n[277 rows x 1 columns]",
      "text/html": "<div>\n<style scoped>\n    .dataframe tbody tr th:only-of-type {\n        vertical-align: middle;\n    }\n\n    .dataframe tbody tr th {\n        vertical-align: top;\n    }\n\n    .dataframe thead th {\n        text-align: right;\n    }\n</style>\n<table border=\"1\" class=\"dataframe\">\n  <thead>\n    <tr style=\"text-align: right;\">\n      <th></th>\n      <th></th>\n      <th>Progress</th>\n    </tr>\n    <tr>\n      <th>Area</th>\n      <th>Item</th>\n      <th></th>\n    </tr>\n  </thead>\n  <tbody>\n    <tr>\n      <th rowspan=\"2\" valign=\"top\">Afghanistan</th>\n      <th>Diammonium phosphate (DAP)</th>\n      <td>0.000000</td>\n    </tr>\n    <tr>\n      <th>Urea</th>\n      <td>1866.266667</td>\n    </tr>\n    <tr>\n      <th>Bahrain</th>\n      <th>Urea</th>\n      <td>44177.333333</td>\n    </tr>\n    <tr>\n      <th rowspan=\"2\" valign=\"top\">Bangladesh</th>\n      <th>Ammonium sulphate</th>\n      <td>-137800.000000</td>\n    </tr>\n    <tr>\n      <th>Diammonium phosphate (DAP)</th>\n      <td>10777.777778</td>\n    </tr>\n    <tr>\n      <th>...</th>\n      <th>...</th>\n      <td>...</td>\n    </tr>\n    <tr>\n      <th>Uzbekistan</th>\n      <th>Urea and ammonium nitrate solutions (UAN)</th>\n      <td>-99064.333333</td>\n    </tr>\n    <tr>\n      <th rowspan=\"4\" valign=\"top\">Viet Nam</th>\n      <th>Fertilizers n.e.c.</th>\n      <td>102351.000000</td>\n    </tr>\n    <tr>\n      <th>NPK fertilizers</th>\n      <td>394337.142857</td>\n    </tr>\n    <tr>\n      <th>Superphosphates above 35%</th>\n      <td>-138262.500000</td>\n    </tr>\n    <tr>\n      <th>Urea</th>\n      <td>68493.750000</td>\n    </tr>\n  </tbody>\n</table>\n<p>277 rows × 1 columns</p>\n</div>"
     },
     "execution_count": 12,
     "metadata": {},
     "output_type": "execute_result"
    }
   ],
   "source": [
    "AsiaProdVal = pd.DataFrame(AsiaProd.groupby(by=['Area','Item']).mean()['Progress'])\n",
    "AsiaProdVal"
   ],
   "metadata": {
    "collapsed": false,
    "pycharm": {
     "name": "#%%\n"
    }
   }
  },
  {
   "cell_type": "code",
   "execution_count": 11,
   "outputs": [],
   "source": [
    "#AsiaProdVal = AsiaProdVal.reset_index()"
   ],
   "metadata": {
    "collapsed": false,
    "pycharm": {
     "name": "#%%\n"
    }
   }
  },
  {
   "cell_type": "code",
   "execution_count": 13,
   "outputs": [],
   "source": [
    "candidate_countries = []\n",
    "candidate_fertilizer = []\n",
    "count = 0\n",
    "for i in range(0,273):\n",
    "    while AsiaProdVal.iloc[i].name[0] == AsiaProdVal.iloc[i+1].name[0]:\n",
    "        count = count +1\n",
    "        i =i +1\n",
    "    i = i-1\n",
    "    if(count > 4 ):\n",
    "        candidate_countries.append(AsiaProdVal.iloc[i].name[0])\n",
    "        candidate_fertilizer.append(AsiaProdVal.iloc[i].name[1])\n",
    "\n",
    "    count = 0"
   ],
   "metadata": {
    "collapsed": false,
    "pycharm": {
     "name": "#%%\n"
    }
   }
  },
  {
   "cell_type": "code",
   "execution_count": 14,
   "outputs": [
    {
     "data": {
      "text/plain": "array(['Bangladesh', 'Bhutan', 'Brunei Darussalam', 'India', 'Indonesia',\n       'Iran (Islamic Republic of)', 'Iraq', 'Israel', 'Japan',\n       'Kazakhstan', 'Kyrgyzstan', 'Maldives', 'Nepal', 'Pakistan',\n       'Philippines', 'Republic of Korea', 'Russian Federation',\n       'Saudi Arabia', 'Turkey', 'Uzbekistan'], dtype='<U26')"
     },
     "execution_count": 14,
     "metadata": {},
     "output_type": "execute_result"
    }
   ],
   "source": [
    "\n",
    "np.unique(candidate_countries)"
   ],
   "metadata": {
    "collapsed": false,
    "pycharm": {
     "name": "#%%\n"
    }
   }
  },
  {
   "cell_type": "code",
   "execution_count": 15,
   "outputs": [
    {
     "data": {
      "text/plain": "array(['Phosphate rock', 'Superphosphates above 35%',\n       'Superphosphates, other', 'Urea'], dtype='<U25')"
     },
     "execution_count": 15,
     "metadata": {},
     "output_type": "execute_result"
    }
   ],
   "source": [
    "np.unique(candidate_fertilizer)"
   ],
   "metadata": {
    "collapsed": false,
    "pycharm": {
     "name": "#%%\n"
    }
   }
  },
  {
   "cell_type": "markdown",
   "source": [
    "<h4 style='direction : rtl;font-family:Calibri'>\n",
    "بخش کشاورزی\n",
    "</h4>"
   ],
   "metadata": {
    "collapsed": false,
    "pycharm": {
     "name": "#%% md\n"
    }
   }
  },
  {
   "cell_type": "code",
   "execution_count": 46,
   "outputs": [],
   "source": [
    "AsiaAgri = pd.read_csv('Asia - Agriculture.csv',index_col='Year')\n",
    "AsiaAgri = AsiaAgri.drop(['Area Code','Item Code','Element Code','Unit','Flag','continent','Element','Year Code'],axis=1)\n",
    "#AsiaAgri.set_index('Year Code')"
   ],
   "metadata": {
    "collapsed": false,
    "pycharm": {
     "name": "#%%\n"
    }
   }
  },
  {
   "cell_type": "code",
   "execution_count": 17,
   "outputs": [
    {
     "data": {
      "text/plain": "             Area             Item    Value\nYear                                       \n2002  Afghanistan  NPK fertilizers  17900.0\n2003  Afghanistan  NPK fertilizers  33200.0\n2004  Afghanistan  NPK fertilizers  47700.0\n2004  Afghanistan             Urea  42300.0\n2005  Afghanistan             Urea  20577.0",
      "text/html": "<div>\n<style scoped>\n    .dataframe tbody tr th:only-of-type {\n        vertical-align: middle;\n    }\n\n    .dataframe tbody tr th {\n        vertical-align: top;\n    }\n\n    .dataframe thead th {\n        text-align: right;\n    }\n</style>\n<table border=\"1\" class=\"dataframe\">\n  <thead>\n    <tr style=\"text-align: right;\">\n      <th></th>\n      <th>Area</th>\n      <th>Item</th>\n      <th>Value</th>\n    </tr>\n    <tr>\n      <th>Year</th>\n      <th></th>\n      <th></th>\n      <th></th>\n    </tr>\n  </thead>\n  <tbody>\n    <tr>\n      <th>2002</th>\n      <td>Afghanistan</td>\n      <td>NPK fertilizers</td>\n      <td>17900.0</td>\n    </tr>\n    <tr>\n      <th>2003</th>\n      <td>Afghanistan</td>\n      <td>NPK fertilizers</td>\n      <td>33200.0</td>\n    </tr>\n    <tr>\n      <th>2004</th>\n      <td>Afghanistan</td>\n      <td>NPK fertilizers</td>\n      <td>47700.0</td>\n    </tr>\n    <tr>\n      <th>2004</th>\n      <td>Afghanistan</td>\n      <td>Urea</td>\n      <td>42300.0</td>\n    </tr>\n    <tr>\n      <th>2005</th>\n      <td>Afghanistan</td>\n      <td>Urea</td>\n      <td>20577.0</td>\n    </tr>\n  </tbody>\n</table>\n</div>"
     },
     "execution_count": 17,
     "metadata": {},
     "output_type": "execute_result"
    }
   ],
   "source": [
    "AsiaAgri.head()"
   ],
   "metadata": {
    "collapsed": false,
    "pycharm": {
     "name": "#%%\n"
    }
   }
  },
  {
   "cell_type": "code",
   "execution_count": 18,
   "outputs": [
    {
     "data": {
      "text/plain": "             Area             Item    Value  Progress\nYear                                                 \n2002  Afghanistan  NPK fertilizers  17900.0       NaN\n2003  Afghanistan  NPK fertilizers  33200.0   15300.0\n2004  Afghanistan  NPK fertilizers  47700.0   14500.0\n2004  Afghanistan             Urea  42300.0   -5400.0\n2005  Afghanistan             Urea  20577.0  -21723.0",
      "text/html": "<div>\n<style scoped>\n    .dataframe tbody tr th:only-of-type {\n        vertical-align: middle;\n    }\n\n    .dataframe tbody tr th {\n        vertical-align: top;\n    }\n\n    .dataframe thead th {\n        text-align: right;\n    }\n</style>\n<table border=\"1\" class=\"dataframe\">\n  <thead>\n    <tr style=\"text-align: right;\">\n      <th></th>\n      <th>Area</th>\n      <th>Item</th>\n      <th>Value</th>\n      <th>Progress</th>\n    </tr>\n    <tr>\n      <th>Year</th>\n      <th></th>\n      <th></th>\n      <th></th>\n      <th></th>\n    </tr>\n  </thead>\n  <tbody>\n    <tr>\n      <th>2002</th>\n      <td>Afghanistan</td>\n      <td>NPK fertilizers</td>\n      <td>17900.0</td>\n      <td>NaN</td>\n    </tr>\n    <tr>\n      <th>2003</th>\n      <td>Afghanistan</td>\n      <td>NPK fertilizers</td>\n      <td>33200.0</td>\n      <td>15300.0</td>\n    </tr>\n    <tr>\n      <th>2004</th>\n      <td>Afghanistan</td>\n      <td>NPK fertilizers</td>\n      <td>47700.0</td>\n      <td>14500.0</td>\n    </tr>\n    <tr>\n      <th>2004</th>\n      <td>Afghanistan</td>\n      <td>Urea</td>\n      <td>42300.0</td>\n      <td>-5400.0</td>\n    </tr>\n    <tr>\n      <th>2005</th>\n      <td>Afghanistan</td>\n      <td>Urea</td>\n      <td>20577.0</td>\n      <td>-21723.0</td>\n    </tr>\n  </tbody>\n</table>\n</div>"
     },
     "execution_count": 18,
     "metadata": {},
     "output_type": "execute_result"
    }
   ],
   "source": [
    "AsiaAgri['Progress'] = AsiaAgri['Value'] - AsiaAgri['Value'].shift(1)\n",
    "AsiaAgri.head()"
   ],
   "metadata": {
    "collapsed": false,
    "pycharm": {
     "name": "#%%\n"
    }
   }
  },
  {
   "cell_type": "code",
   "execution_count": 19,
   "outputs": [
    {
     "data": {
      "text/plain": "                                                                    Progress\nArea        Item                                                            \nAfghanistan NPK fertilizers                                     14900.000000\n            Urea                                                 7441.000000\nArmenia     Ammonium nitrate (AN)                               -7358.100000\n            Ammonium sulphate                                   -3364.200000\n            Calcium ammonium nitrate (CAN) and other mixtur...     39.800000\n...                                                                      ...\nYemen       Other NP compounds                                     27.250000\n            Potassium chloride (muriate of potash) (MOP)          111.000000\n            Superphosphates above 35%                            -304.666667\n            Urea                                                 4273.428571\n            Urea and ammonium nitrate solutions (UAN)           -7494.000000\n\n[499 rows x 1 columns]",
      "text/html": "<div>\n<style scoped>\n    .dataframe tbody tr th:only-of-type {\n        vertical-align: middle;\n    }\n\n    .dataframe tbody tr th {\n        vertical-align: top;\n    }\n\n    .dataframe thead th {\n        text-align: right;\n    }\n</style>\n<table border=\"1\" class=\"dataframe\">\n  <thead>\n    <tr style=\"text-align: right;\">\n      <th></th>\n      <th></th>\n      <th>Progress</th>\n    </tr>\n    <tr>\n      <th>Area</th>\n      <th>Item</th>\n      <th></th>\n    </tr>\n  </thead>\n  <tbody>\n    <tr>\n      <th rowspan=\"2\" valign=\"top\">Afghanistan</th>\n      <th>NPK fertilizers</th>\n      <td>14900.000000</td>\n    </tr>\n    <tr>\n      <th>Urea</th>\n      <td>7441.000000</td>\n    </tr>\n    <tr>\n      <th rowspan=\"3\" valign=\"top\">Armenia</th>\n      <th>Ammonium nitrate (AN)</th>\n      <td>-7358.100000</td>\n    </tr>\n    <tr>\n      <th>Ammonium sulphate</th>\n      <td>-3364.200000</td>\n    </tr>\n    <tr>\n      <th>Calcium ammonium nitrate (CAN) and other mixtures with calcium carbonate</th>\n      <td>39.800000</td>\n    </tr>\n    <tr>\n      <th>...</th>\n      <th>...</th>\n      <td>...</td>\n    </tr>\n    <tr>\n      <th rowspan=\"5\" valign=\"top\">Yemen</th>\n      <th>Other NP compounds</th>\n      <td>27.250000</td>\n    </tr>\n    <tr>\n      <th>Potassium chloride (muriate of potash) (MOP)</th>\n      <td>111.000000</td>\n    </tr>\n    <tr>\n      <th>Superphosphates above 35%</th>\n      <td>-304.666667</td>\n    </tr>\n    <tr>\n      <th>Urea</th>\n      <td>4273.428571</td>\n    </tr>\n    <tr>\n      <th>Urea and ammonium nitrate solutions (UAN)</th>\n      <td>-7494.000000</td>\n    </tr>\n  </tbody>\n</table>\n<p>499 rows × 1 columns</p>\n</div>"
     },
     "execution_count": 19,
     "metadata": {},
     "output_type": "execute_result"
    }
   ],
   "source": [
    "AsiaAgri = pd.DataFrame(AsiaAgri.groupby(by=['Area','Item']).mean()['Progress'])\n",
    "AsiaAgri"
   ],
   "metadata": {
    "collapsed": false,
    "pycharm": {
     "name": "#%%\n"
    }
   }
  },
  {
   "cell_type": "code",
   "execution_count": null,
   "outputs": [],
   "source": [
    "#AsiaAgri = AsiaAgri.reset_index()"
   ],
   "metadata": {
    "collapsed": false,
    "pycharm": {
     "name": "#%%\n"
    }
   }
  },
  {
   "cell_type": "code",
   "execution_count": 20,
   "outputs": [],
   "source": [
    "candidateAgri_countries = []\n",
    "candidateAgri_fertilizer = []\n",
    "count = 0\n",
    "for i in range(0,490):\n",
    "    while AsiaAgri.iloc[i].name[0] == AsiaAgri.iloc[i+1].name[0]:\n",
    "        count = count +1\n",
    "        i =i +1\n",
    "    i = i-1\n",
    "    if(count > 4 ):\n",
    "        candidateAgri_countries.append(AsiaAgri.iloc[i].name[0])\n",
    "        candidateAgri_fertilizer.append(AsiaAgri.iloc[i].name[1])\n",
    "\n",
    "    count = 0"
   ],
   "metadata": {
    "collapsed": false,
    "pycharm": {
     "name": "#%%\n"
    }
   }
  },
  {
   "cell_type": "code",
   "execution_count": 21,
   "outputs": [
    {
     "data": {
      "text/plain": "array(['Armenia', 'Bahrain', 'Bangladesh', 'Bhutan', 'Brunei Darussalam',\n       'Cambodia', 'China, Hong Kong SAR', 'China, Macao SAR',\n       'China, Taiwan Province of', 'China, mainland', 'India',\n       'Indonesia', 'Iran (Islamic Republic of)', 'Iraq', 'Israel',\n       'Japan', 'Jordan', 'Kazakhstan', 'Kuwait', 'Kyrgyzstan', 'Lebanon',\n       'Malaysia', 'Maldives', 'Mongolia', 'Myanmar', 'Nepal', 'Oman',\n       'Pakistan', 'Philippines', 'Republic of Korea', 'Saudi Arabia',\n       'Singapore', 'Sri Lanka', 'Syrian Arab Republic', 'Tajikistan',\n       'Thailand', 'Turkey', 'Viet Nam'], dtype='<U26')"
     },
     "execution_count": 21,
     "metadata": {},
     "output_type": "execute_result"
    }
   ],
   "source": [
    "\n",
    "np.unique(candidateAgri_countries)"
   ],
   "metadata": {
    "collapsed": false,
    "pycharm": {
     "name": "#%%\n"
    }
   }
  },
  {
   "cell_type": "code",
   "execution_count": 22,
   "outputs": [
    {
     "data": {
      "text/plain": "array(['Superphosphates above 35%', 'Superphosphates, other', 'Urea'],\n      dtype='<U25')"
     },
     "execution_count": 22,
     "metadata": {},
     "output_type": "execute_result"
    }
   ],
   "source": [
    "np.unique(candidateAgri_fertilizer)"
   ],
   "metadata": {
    "collapsed": false,
    "pycharm": {
     "name": "#%%\n"
    }
   }
  },
  {
   "cell_type": "code",
   "execution_count": 23,
   "outputs": [
    {
     "data": {
      "text/plain": "array(['Bangladesh', 'Bhutan', 'Brunei Darussalam', 'India', 'Indonesia',\n       'Iran (Islamic Republic of)', 'Iraq', 'Israel', 'Japan',\n       'Kazakhstan', 'Kyrgyzstan', 'Maldives', 'Nepal', 'Pakistan',\n       'Philippines', 'Republic of Korea', 'Saudi Arabia', 'Turkey'],\n      dtype='<U26')"
     },
     "execution_count": 23,
     "metadata": {},
     "output_type": "execute_result"
    }
   ],
   "source": [
    "np.intersect1d(np.unique(candidate_countries),np.unique(candidateAgri_countries))"
   ],
   "metadata": {
    "collapsed": false,
    "pycharm": {
     "name": "#%%\n"
    }
   }
  },
  {
   "cell_type": "markdown",
   "source": [
    "<h4 style='direction : rtl;font-family:Calibri'>\n",
    "دیتاهای جدید را بر اساس کشور و کود انتخاب شده پردازش میکنیم.\n",
    "</h4>"
   ],
   "metadata": {
    "collapsed": false,
    "pycharm": {
     "name": "#%% md\n"
    }
   }
  },
  {
   "cell_type": "code",
   "execution_count": 56,
   "outputs": [
    {
     "ename": "KeyError",
     "evalue": "True",
     "output_type": "error",
     "traceback": [
      "\u001B[1;31m---------------------------------------------------------------------------\u001B[0m",
      "\u001B[1;31mKeyError\u001B[0m                                  Traceback (most recent call last)",
      "\u001B[1;32mC:\\ProgramData\\Anaconda3\\lib\\site-packages\\pandas\\core\\indexes\\base.py\u001B[0m in \u001B[0;36mget_loc\u001B[1;34m(self, key, method, tolerance)\u001B[0m\n\u001B[0;32m   2645\u001B[0m             \u001B[1;32mtry\u001B[0m\u001B[1;33m:\u001B[0m\u001B[1;33m\u001B[0m\u001B[1;33m\u001B[0m\u001B[0m\n\u001B[1;32m-> 2646\u001B[1;33m                 \u001B[1;32mreturn\u001B[0m \u001B[0mself\u001B[0m\u001B[1;33m.\u001B[0m\u001B[0m_engine\u001B[0m\u001B[1;33m.\u001B[0m\u001B[0mget_loc\u001B[0m\u001B[1;33m(\u001B[0m\u001B[0mkey\u001B[0m\u001B[1;33m)\u001B[0m\u001B[1;33m\u001B[0m\u001B[1;33m\u001B[0m\u001B[0m\n\u001B[0m\u001B[0;32m   2647\u001B[0m             \u001B[1;32mexcept\u001B[0m \u001B[0mKeyError\u001B[0m\u001B[1;33m:\u001B[0m\u001B[1;33m\u001B[0m\u001B[1;33m\u001B[0m\u001B[0m\n",
      "\u001B[1;32mpandas\\_libs\\index.pyx\u001B[0m in \u001B[0;36mpandas._libs.index.IndexEngine.get_loc\u001B[1;34m()\u001B[0m\n",
      "\u001B[1;32mpandas\\_libs\\index.pyx\u001B[0m in \u001B[0;36mpandas._libs.index.IndexEngine.get_loc\u001B[1;34m()\u001B[0m\n",
      "\u001B[1;32mpandas\\_libs\\hashtable_class_helper.pxi\u001B[0m in \u001B[0;36mpandas._libs.hashtable.PyObjectHashTable.get_item\u001B[1;34m()\u001B[0m\n",
      "\u001B[1;32mpandas\\_libs\\hashtable_class_helper.pxi\u001B[0m in \u001B[0;36mpandas._libs.hashtable.PyObjectHashTable.get_item\u001B[1;34m()\u001B[0m\n",
      "\u001B[1;31mKeyError\u001B[0m: True",
      "\nDuring handling of the above exception, another exception occurred:\n",
      "\u001B[1;31mKeyError\u001B[0m                                  Traceback (most recent call last)",
      "\u001B[1;32m<ipython-input-56-885a1fda041b>\u001B[0m in \u001B[0;36m<module>\u001B[1;34m\u001B[0m\n\u001B[0;32m     12\u001B[0m \u001B[0mAsiaAgriSupA\u001B[0m \u001B[1;33m=\u001B[0m \u001B[0mAsiaAgriSupA\u001B[0m\u001B[1;33m.\u001B[0m\u001B[0mdrop\u001B[0m\u001B[1;33m(\u001B[0m\u001B[1;34m'Item'\u001B[0m\u001B[1;33m,\u001B[0m\u001B[0maxis\u001B[0m\u001B[1;33m=\u001B[0m\u001B[1;36m1\u001B[0m\u001B[1;33m)\u001B[0m\u001B[1;33m\u001B[0m\u001B[1;33m\u001B[0m\u001B[0m\n\u001B[0;32m     13\u001B[0m \u001B[0mAsiaAgriSupA\u001B[0m\u001B[1;33m=\u001B[0m\u001B[0mAsiaAgriSupA\u001B[0m\u001B[1;33m.\u001B[0m\u001B[0mpivot_table\u001B[0m\u001B[1;33m(\u001B[0m\u001B[0mcolumns\u001B[0m\u001B[1;33m=\u001B[0m\u001B[1;34m'Area'\u001B[0m\u001B[1;33m,\u001B[0m\u001B[0mvalues\u001B[0m\u001B[1;33m=\u001B[0m\u001B[1;34m'Value'\u001B[0m\u001B[1;33m)\u001B[0m\u001B[1;33m\u001B[0m\u001B[1;33m\u001B[0m\u001B[0m\n\u001B[1;32m---> 14\u001B[1;33m \u001B[0mAsiaAgriSupA\u001B[0m \u001B[1;33m=\u001B[0m \u001B[0mAsiaAgriSupA\u001B[0m\u001B[1;33m[\u001B[0m\u001B[0mcountries\u001B[0m \u001B[1;33m!=\u001B[0m \u001B[1;33m[\u001B[0m\u001B[1;34m'Israel'\u001B[0m\u001B[1;33m,\u001B[0m \u001B[1;34m'Philippines'\u001B[0m\u001B[1;33m,\u001B[0m \u001B[1;34m'Bhutan'\u001B[0m\u001B[1;33m,\u001B[0m \u001B[1;34m'Republic of Korea'\u001B[0m\u001B[1;33m]\u001B[0m\u001B[1;33m]\u001B[0m\u001B[1;33m\u001B[0m\u001B[1;33m\u001B[0m\u001B[0m\n\u001B[0m\u001B[0;32m     15\u001B[0m \u001B[1;33m\u001B[0m\u001B[0m\n\u001B[0;32m     16\u001B[0m \u001B[0mAsiaAgriSup\u001B[0m \u001B[1;33m=\u001B[0m \u001B[0mAsiaAgri\u001B[0m\u001B[1;33m[\u001B[0m\u001B[0mAsiaAgri\u001B[0m\u001B[1;33m[\u001B[0m\u001B[1;34m'Item'\u001B[0m\u001B[1;33m]\u001B[0m\u001B[1;33m==\u001B[0m\u001B[1;34m'Superphosphates, other'\u001B[0m\u001B[1;33m]\u001B[0m\u001B[1;33m\u001B[0m\u001B[1;33m\u001B[0m\u001B[0m\n",
      "\u001B[1;32mC:\\ProgramData\\Anaconda3\\lib\\site-packages\\pandas\\core\\frame.py\u001B[0m in \u001B[0;36m__getitem__\u001B[1;34m(self, key)\u001B[0m\n\u001B[0;32m   2798\u001B[0m             \u001B[1;32mif\u001B[0m \u001B[0mself\u001B[0m\u001B[1;33m.\u001B[0m\u001B[0mcolumns\u001B[0m\u001B[1;33m.\u001B[0m\u001B[0mnlevels\u001B[0m \u001B[1;33m>\u001B[0m \u001B[1;36m1\u001B[0m\u001B[1;33m:\u001B[0m\u001B[1;33m\u001B[0m\u001B[1;33m\u001B[0m\u001B[0m\n\u001B[0;32m   2799\u001B[0m                 \u001B[1;32mreturn\u001B[0m \u001B[0mself\u001B[0m\u001B[1;33m.\u001B[0m\u001B[0m_getitem_multilevel\u001B[0m\u001B[1;33m(\u001B[0m\u001B[0mkey\u001B[0m\u001B[1;33m)\u001B[0m\u001B[1;33m\u001B[0m\u001B[1;33m\u001B[0m\u001B[0m\n\u001B[1;32m-> 2800\u001B[1;33m             \u001B[0mindexer\u001B[0m \u001B[1;33m=\u001B[0m \u001B[0mself\u001B[0m\u001B[1;33m.\u001B[0m\u001B[0mcolumns\u001B[0m\u001B[1;33m.\u001B[0m\u001B[0mget_loc\u001B[0m\u001B[1;33m(\u001B[0m\u001B[0mkey\u001B[0m\u001B[1;33m)\u001B[0m\u001B[1;33m\u001B[0m\u001B[1;33m\u001B[0m\u001B[0m\n\u001B[0m\u001B[0;32m   2801\u001B[0m             \u001B[1;32mif\u001B[0m \u001B[0mis_integer\u001B[0m\u001B[1;33m(\u001B[0m\u001B[0mindexer\u001B[0m\u001B[1;33m)\u001B[0m\u001B[1;33m:\u001B[0m\u001B[1;33m\u001B[0m\u001B[1;33m\u001B[0m\u001B[0m\n\u001B[0;32m   2802\u001B[0m                 \u001B[0mindexer\u001B[0m \u001B[1;33m=\u001B[0m \u001B[1;33m[\u001B[0m\u001B[0mindexer\u001B[0m\u001B[1;33m]\u001B[0m\u001B[1;33m\u001B[0m\u001B[1;33m\u001B[0m\u001B[0m\n",
      "\u001B[1;32mC:\\ProgramData\\Anaconda3\\lib\\site-packages\\pandas\\core\\indexes\\base.py\u001B[0m in \u001B[0;36mget_loc\u001B[1;34m(self, key, method, tolerance)\u001B[0m\n\u001B[0;32m   2646\u001B[0m                 \u001B[1;32mreturn\u001B[0m \u001B[0mself\u001B[0m\u001B[1;33m.\u001B[0m\u001B[0m_engine\u001B[0m\u001B[1;33m.\u001B[0m\u001B[0mget_loc\u001B[0m\u001B[1;33m(\u001B[0m\u001B[0mkey\u001B[0m\u001B[1;33m)\u001B[0m\u001B[1;33m\u001B[0m\u001B[1;33m\u001B[0m\u001B[0m\n\u001B[0;32m   2647\u001B[0m             \u001B[1;32mexcept\u001B[0m \u001B[0mKeyError\u001B[0m\u001B[1;33m:\u001B[0m\u001B[1;33m\u001B[0m\u001B[1;33m\u001B[0m\u001B[0m\n\u001B[1;32m-> 2648\u001B[1;33m                 \u001B[1;32mreturn\u001B[0m \u001B[0mself\u001B[0m\u001B[1;33m.\u001B[0m\u001B[0m_engine\u001B[0m\u001B[1;33m.\u001B[0m\u001B[0mget_loc\u001B[0m\u001B[1;33m(\u001B[0m\u001B[0mself\u001B[0m\u001B[1;33m.\u001B[0m\u001B[0m_maybe_cast_indexer\u001B[0m\u001B[1;33m(\u001B[0m\u001B[0mkey\u001B[0m\u001B[1;33m)\u001B[0m\u001B[1;33m)\u001B[0m\u001B[1;33m\u001B[0m\u001B[1;33m\u001B[0m\u001B[0m\n\u001B[0m\u001B[0;32m   2649\u001B[0m         \u001B[0mindexer\u001B[0m \u001B[1;33m=\u001B[0m \u001B[0mself\u001B[0m\u001B[1;33m.\u001B[0m\u001B[0mget_indexer\u001B[0m\u001B[1;33m(\u001B[0m\u001B[1;33m[\u001B[0m\u001B[0mkey\u001B[0m\u001B[1;33m]\u001B[0m\u001B[1;33m,\u001B[0m \u001B[0mmethod\u001B[0m\u001B[1;33m=\u001B[0m\u001B[0mmethod\u001B[0m\u001B[1;33m,\u001B[0m \u001B[0mtolerance\u001B[0m\u001B[1;33m=\u001B[0m\u001B[0mtolerance\u001B[0m\u001B[1;33m)\u001B[0m\u001B[1;33m\u001B[0m\u001B[1;33m\u001B[0m\u001B[0m\n\u001B[0;32m   2650\u001B[0m         \u001B[1;32mif\u001B[0m \u001B[0mindexer\u001B[0m\u001B[1;33m.\u001B[0m\u001B[0mndim\u001B[0m \u001B[1;33m>\u001B[0m \u001B[1;36m1\u001B[0m \u001B[1;32mor\u001B[0m \u001B[0mindexer\u001B[0m\u001B[1;33m.\u001B[0m\u001B[0msize\u001B[0m \u001B[1;33m>\u001B[0m \u001B[1;36m1\u001B[0m\u001B[1;33m:\u001B[0m\u001B[1;33m\u001B[0m\u001B[1;33m\u001B[0m\u001B[0m\n",
      "\u001B[1;32mpandas\\_libs\\index.pyx\u001B[0m in \u001B[0;36mpandas._libs.index.IndexEngine.get_loc\u001B[1;34m()\u001B[0m\n",
      "\u001B[1;32mpandas\\_libs\\index.pyx\u001B[0m in \u001B[0;36mpandas._libs.index.IndexEngine.get_loc\u001B[1;34m()\u001B[0m\n",
      "\u001B[1;32mpandas\\_libs\\hashtable_class_helper.pxi\u001B[0m in \u001B[0;36mpandas._libs.hashtable.PyObjectHashTable.get_item\u001B[1;34m()\u001B[0m\n",
      "\u001B[1;32mpandas\\_libs\\hashtable_class_helper.pxi\u001B[0m in \u001B[0;36mpandas._libs.hashtable.PyObjectHashTable.get_item\u001B[1;34m()\u001B[0m\n",
      "\u001B[1;31mKeyError\u001B[0m: True"
     ]
    }
   ],
   "source": [
    "countries = ['Bangladesh', 'Bhutan', 'Brunei Darussalam', 'India', 'Indonesia',\n",
    "       'Iran (Islamic Republic of)', 'Iraq', 'Israel', 'Japan',\n",
    "       'Kazakhstan', 'Kyrgyzstan', 'Maldives', 'Nepal', 'Pakistan',\n",
    "       'Philippines', 'Republic of Korea', 'Saudi Arabia', 'Turkey']\n",
    "\n",
    "AsiaAgriUrea = AsiaAgri[AsiaAgri['Item']=='Urea']\n",
    "AsiaAgriUrea = AsiaAgriUrea.drop('Item',axis=1)\n",
    "AsiaAgriUrea = AsiaAgriUrea.pivot_table(columns='Area',values='Value')\n",
    "AsiaAgriUrea = AsiaAgriUrea[countries]\n",
    "\n",
    "AsiaAgriSupA = AsiaAgri[AsiaAgri['Item']=='Superphosphates above 35%']\n",
    "AsiaAgriSupA = AsiaAgriSupA.drop('Item',axis=1)\n",
    "AsiaAgriSupA=AsiaAgriSupA.pivot_table(columns='Area',values='Value')\n",
    "AsiaAgriSupA = AsiaAgriSupA[countries != ['Israel', 'Philippines', 'Bhutan', 'Republic of Korea']]\n",
    "\n",
    "AsiaAgriSup = AsiaAgri[AsiaAgri['Item']=='Superphosphates, other']\n",
    "AsiaAgriSup = AsiaAgriSup.drop('Item',axis=1)\n",
    "AsiaAgriSup=AsiaAgriSup.pivot_table(columns='Area',values='Value')\n",
    "AsiaAgriSup = AsiaAgriSup[countries]\n"
   ],
   "metadata": {
    "collapsed": false,
    "pycharm": {
     "name": "#%%\n"
    }
   }
  },
  {
   "cell_type": "code",
   "execution_count": 44,
   "outputs": [
    {
     "ename": "KeyError",
     "evalue": "\"['Philippines', 'Israel', 'Saudi Arabia', 'Republic of Korea'] not in index\"",
     "output_type": "error",
     "traceback": [
      "\u001B[1;31m---------------------------------------------------------------------------\u001B[0m",
      "\u001B[1;31mKeyError\u001B[0m                                  Traceback (most recent call last)",
      "\u001B[1;32m<ipython-input-44-a0537ad0e86a>\u001B[0m in \u001B[0;36m<module>\u001B[1;34m\u001B[0m\n\u001B[0;32m      7\u001B[0m \u001B[0mAsiaProdSupA\u001B[0m \u001B[1;33m=\u001B[0m \u001B[0mAsiaProdSupA\u001B[0m\u001B[1;33m.\u001B[0m\u001B[0mdrop\u001B[0m\u001B[1;33m(\u001B[0m\u001B[1;34m'Item'\u001B[0m\u001B[1;33m,\u001B[0m\u001B[0maxis\u001B[0m\u001B[1;33m=\u001B[0m\u001B[1;36m1\u001B[0m\u001B[1;33m)\u001B[0m\u001B[1;33m\u001B[0m\u001B[1;33m\u001B[0m\u001B[0m\n\u001B[0;32m      8\u001B[0m \u001B[0mAsiaProdSupA\u001B[0m\u001B[1;33m=\u001B[0m\u001B[0mAsiaProdSupA\u001B[0m\u001B[1;33m.\u001B[0m\u001B[0mpivot_table\u001B[0m\u001B[1;33m(\u001B[0m\u001B[0mcolumns\u001B[0m\u001B[1;33m=\u001B[0m\u001B[1;34m'Area'\u001B[0m\u001B[1;33m,\u001B[0m\u001B[0mvalues\u001B[0m\u001B[1;33m=\u001B[0m\u001B[1;34m'Value'\u001B[0m\u001B[1;33m)\u001B[0m\u001B[1;33m\u001B[0m\u001B[1;33m\u001B[0m\u001B[0m\n\u001B[1;32m----> 9\u001B[1;33m \u001B[0mAsiaProdSupA\u001B[0m \u001B[1;33m=\u001B[0m \u001B[0mAsiaProdSupA\u001B[0m\u001B[1;33m[\u001B[0m\u001B[0mcountries\u001B[0m\u001B[1;33m]\u001B[0m\u001B[1;33m\u001B[0m\u001B[1;33m\u001B[0m\u001B[0m\n\u001B[0m\u001B[0;32m     10\u001B[0m \u001B[1;33m\u001B[0m\u001B[0m\n\u001B[0;32m     11\u001B[0m \u001B[0mAsiaProdSup\u001B[0m \u001B[1;33m=\u001B[0m \u001B[0mAsiaProd\u001B[0m\u001B[1;33m[\u001B[0m\u001B[0mAsiaProd\u001B[0m\u001B[1;33m[\u001B[0m\u001B[1;34m'Item'\u001B[0m\u001B[1;33m]\u001B[0m\u001B[1;33m==\u001B[0m\u001B[1;34m'Superphosphates, other'\u001B[0m\u001B[1;33m]\u001B[0m\u001B[1;33m\u001B[0m\u001B[1;33m\u001B[0m\u001B[0m\n",
      "\u001B[1;32mC:\\ProgramData\\Anaconda3\\lib\\site-packages\\pandas\\core\\frame.py\u001B[0m in \u001B[0;36m__getitem__\u001B[1;34m(self, key)\u001B[0m\n\u001B[0;32m   2804\u001B[0m             \u001B[1;32mif\u001B[0m \u001B[0mis_iterator\u001B[0m\u001B[1;33m(\u001B[0m\u001B[0mkey\u001B[0m\u001B[1;33m)\u001B[0m\u001B[1;33m:\u001B[0m\u001B[1;33m\u001B[0m\u001B[1;33m\u001B[0m\u001B[0m\n\u001B[0;32m   2805\u001B[0m                 \u001B[0mkey\u001B[0m \u001B[1;33m=\u001B[0m \u001B[0mlist\u001B[0m\u001B[1;33m(\u001B[0m\u001B[0mkey\u001B[0m\u001B[1;33m)\u001B[0m\u001B[1;33m\u001B[0m\u001B[1;33m\u001B[0m\u001B[0m\n\u001B[1;32m-> 2806\u001B[1;33m             \u001B[0mindexer\u001B[0m \u001B[1;33m=\u001B[0m \u001B[0mself\u001B[0m\u001B[1;33m.\u001B[0m\u001B[0mloc\u001B[0m\u001B[1;33m.\u001B[0m\u001B[0m_get_listlike_indexer\u001B[0m\u001B[1;33m(\u001B[0m\u001B[0mkey\u001B[0m\u001B[1;33m,\u001B[0m \u001B[0maxis\u001B[0m\u001B[1;33m=\u001B[0m\u001B[1;36m1\u001B[0m\u001B[1;33m,\u001B[0m \u001B[0mraise_missing\u001B[0m\u001B[1;33m=\u001B[0m\u001B[1;32mTrue\u001B[0m\u001B[1;33m)\u001B[0m\u001B[1;33m[\u001B[0m\u001B[1;36m1\u001B[0m\u001B[1;33m]\u001B[0m\u001B[1;33m\u001B[0m\u001B[1;33m\u001B[0m\u001B[0m\n\u001B[0m\u001B[0;32m   2807\u001B[0m \u001B[1;33m\u001B[0m\u001B[0m\n\u001B[0;32m   2808\u001B[0m         \u001B[1;31m# take() does not accept boolean indexers\u001B[0m\u001B[1;33m\u001B[0m\u001B[1;33m\u001B[0m\u001B[1;33m\u001B[0m\u001B[0m\n",
      "\u001B[1;32mC:\\ProgramData\\Anaconda3\\lib\\site-packages\\pandas\\core\\indexing.py\u001B[0m in \u001B[0;36m_get_listlike_indexer\u001B[1;34m(self, key, axis, raise_missing)\u001B[0m\n\u001B[0;32m   1550\u001B[0m             \u001B[0mkeyarr\u001B[0m\u001B[1;33m,\u001B[0m \u001B[0mindexer\u001B[0m\u001B[1;33m,\u001B[0m \u001B[0mnew_indexer\u001B[0m \u001B[1;33m=\u001B[0m \u001B[0max\u001B[0m\u001B[1;33m.\u001B[0m\u001B[0m_reindex_non_unique\u001B[0m\u001B[1;33m(\u001B[0m\u001B[0mkeyarr\u001B[0m\u001B[1;33m)\u001B[0m\u001B[1;33m\u001B[0m\u001B[1;33m\u001B[0m\u001B[0m\n\u001B[0;32m   1551\u001B[0m \u001B[1;33m\u001B[0m\u001B[0m\n\u001B[1;32m-> 1552\u001B[1;33m         self._validate_read_indexer(\n\u001B[0m\u001B[0;32m   1553\u001B[0m             \u001B[0mkeyarr\u001B[0m\u001B[1;33m,\u001B[0m \u001B[0mindexer\u001B[0m\u001B[1;33m,\u001B[0m \u001B[0mo\u001B[0m\u001B[1;33m.\u001B[0m\u001B[0m_get_axis_number\u001B[0m\u001B[1;33m(\u001B[0m\u001B[0maxis\u001B[0m\u001B[1;33m)\u001B[0m\u001B[1;33m,\u001B[0m \u001B[0mraise_missing\u001B[0m\u001B[1;33m=\u001B[0m\u001B[0mraise_missing\u001B[0m\u001B[1;33m\u001B[0m\u001B[1;33m\u001B[0m\u001B[0m\n\u001B[0;32m   1554\u001B[0m         )\n",
      "\u001B[1;32mC:\\ProgramData\\Anaconda3\\lib\\site-packages\\pandas\\core\\indexing.py\u001B[0m in \u001B[0;36m_validate_read_indexer\u001B[1;34m(self, key, indexer, axis, raise_missing)\u001B[0m\n\u001B[0;32m   1644\u001B[0m             \u001B[1;32mif\u001B[0m \u001B[1;32mnot\u001B[0m \u001B[1;33m(\u001B[0m\u001B[0mself\u001B[0m\u001B[1;33m.\u001B[0m\u001B[0mname\u001B[0m \u001B[1;33m==\u001B[0m \u001B[1;34m\"loc\"\u001B[0m \u001B[1;32mand\u001B[0m \u001B[1;32mnot\u001B[0m \u001B[0mraise_missing\u001B[0m\u001B[1;33m)\u001B[0m\u001B[1;33m:\u001B[0m\u001B[1;33m\u001B[0m\u001B[1;33m\u001B[0m\u001B[0m\n\u001B[0;32m   1645\u001B[0m                 \u001B[0mnot_found\u001B[0m \u001B[1;33m=\u001B[0m \u001B[0mlist\u001B[0m\u001B[1;33m(\u001B[0m\u001B[0mset\u001B[0m\u001B[1;33m(\u001B[0m\u001B[0mkey\u001B[0m\u001B[1;33m)\u001B[0m \u001B[1;33m-\u001B[0m \u001B[0mset\u001B[0m\u001B[1;33m(\u001B[0m\u001B[0max\u001B[0m\u001B[1;33m)\u001B[0m\u001B[1;33m)\u001B[0m\u001B[1;33m\u001B[0m\u001B[1;33m\u001B[0m\u001B[0m\n\u001B[1;32m-> 1646\u001B[1;33m                 \u001B[1;32mraise\u001B[0m \u001B[0mKeyError\u001B[0m\u001B[1;33m(\u001B[0m\u001B[1;34mf\"{not_found} not in index\"\u001B[0m\u001B[1;33m)\u001B[0m\u001B[1;33m\u001B[0m\u001B[1;33m\u001B[0m\u001B[0m\n\u001B[0m\u001B[0;32m   1647\u001B[0m \u001B[1;33m\u001B[0m\u001B[0m\n\u001B[0;32m   1648\u001B[0m             \u001B[1;31m# we skip the warning on Categorical/Interval\u001B[0m\u001B[1;33m\u001B[0m\u001B[1;33m\u001B[0m\u001B[1;33m\u001B[0m\u001B[0m\n",
      "\u001B[1;31mKeyError\u001B[0m: \"['Philippines', 'Israel', 'Saudi Arabia', 'Republic of Korea'] not in index\""
     ]
    }
   ],
   "source": [
    "AsiaProdUrea = AsiaProd[AsiaProd['Item']=='Urea']\n",
    "AsiaProdUrea = AsiaProdUrea.drop('Item',axis=1)\n",
    "AsiaProdUrea=AsiaProdUrea.pivot_table(columns='Area',values='Value')\n",
    "AsiaProdUrea = AsiaProdUrea[countries]\n",
    "\n",
    "AsiaProdSupA = AsiaProd[AsiaProd['Item']=='Superphosphates above 35%']\n",
    "AsiaProdSupA = AsiaProdSupA.drop('Item',axis=1)\n",
    "AsiaProdSupA=AsiaProdSupA.pivot_table(columns='Area',values='Value')\n",
    "AsiaProdSupA = AsiaProdSupA[countries]\n",
    "\n",
    "AsiaProdSup = AsiaProd[AsiaProd['Item']=='Superphosphates, other']\n",
    "AsiaProdSup = AsiaProdSup.drop('Item',axis=1)\n",
    "AsiaProdSup=AsiaProdSup.pivot_table(columns='Area',values='Value')\n",
    "AsiaProdSup = AsiaProdSup[countries]\n",
    "\n",
    "AsiaProdOther =AsiaProd[AsiaProd['Item']=='other']\n",
    "AsiaProdOther = AsiaProdOther.drop('Item',axis=1)\n",
    "AsiaProdOther=AsiaProdOther.pivot_table(columns='Area',values='Value')\n",
    "AsiaProdOther = AsiaProdOther[countries]\n",
    "\n",
    "\n",
    "AsiaExp = pd.read_csv('Asia - Export Quantity.csv',index_col='Year')\n",
    "AsiaExp = AsiaExp.drop(['Area Code','Item Code','Element Code','Unit','Flag','continent','Element','Year Code'],axis=1)\n",
    "\n",
    "AsiaExpUrea = AsiaExp[AsiaExp['Item']=='Urea']\n",
    "AsiaExpUrea=AsiaExpUrea.drop('Item',axis=1)\n",
    "AsiaExpUrea=AsiaExpUrea.pivot_table(columns='Area',values='Value')\n",
    "AsiaExpUrea = AsiaExpUrea[countries]\n",
    "\n",
    "AsiaExpSupA = AsiaExp[AsiaExp['Item']=='Superphosphates above 35%']\n",
    "AsiaExpSupA=AsiaExpSupA.drop('Item',axis=1)\n",
    "AsiaExpSupA=AsiaExpSupA.pivot_table(columns='Area',values='Value')\n",
    "AsiaExpSupA = AsiaExpSupA[countries]\n",
    "\n",
    "AsiaExpSup = AsiaExp[AsiaExp['Item']=='Superphosphates, other']\n",
    "AsiaExpSup = AsiaExpSup.drop('Item',axis=1)\n",
    "AsiaExpSup=AsiaExpSup.pivot_table(columns='Area',values='Value')\n",
    "AsiaExpSup = AsiaExpSup[countries]\n",
    "\n"
   ],
   "metadata": {
    "collapsed": false,
    "pycharm": {
     "name": "#%%\n"
    }
   }
  },
  {
   "cell_type": "code",
   "execution_count": null,
   "outputs": [],
   "source": [
    "# Asia_importQ_Urea.isnull().sum()\n",
    "#\n",
    "#"
   ],
   "metadata": {
    "collapsed": false,
    "pycharm": {
     "name": "#%%\n"
    }
   }
  },
  {
   "cell_type": "code",
   "execution_count": null,
   "outputs": [],
   "source": [
    "# removed_countries = []\n",
    "# for (columnName,columnData ) in Asia_importQ_Urea.iteritems():\n",
    "#     if (columnData.isnull().sum()) >= 3:\n",
    "#         removed_countries.append(columnName)\n",
    "#"
   ],
   "metadata": {
    "collapsed": false,
    "pycharm": {
     "name": "#%%\n"
    }
   }
  },
  {
   "cell_type": "code",
   "execution_count": null,
   "outputs": [],
   "source": [
    "# removed_countries\n",
    "#"
   ],
   "metadata": {
    "collapsed": false,
    "pycharm": {
     "name": "#%%\n"
    }
   }
  },
  {
   "cell_type": "markdown",
   "source": [
    "Handling two countries with most missing values."
   ],
   "metadata": {
    "collapsed": false
   }
  },
  {
   "cell_type": "code",
   "execution_count": null,
   "outputs": [],
   "source": [
    "# Asia_importQ_Urea = Asia_importQ_Urea.drop(removed_countries,axis=1)\n",
    "#"
   ],
   "metadata": {
    "collapsed": false,
    "pycharm": {
     "name": "#%%\n"
    }
   }
  },
  {
   "cell_type": "code",
   "execution_count": null,
   "outputs": [],
   "source": [
    "# Asia_importQ_Urea['Uzbekistan'].plot()\n",
    "#\n",
    "#"
   ],
   "metadata": {
    "collapsed": false,
    "pycharm": {
     "name": "#%%\n"
    }
   }
  },
  {
   "cell_type": "code",
   "execution_count": null,
   "outputs": [],
   "source": [
    "# Asia_importQ_Urea['Tajikistan'].plot()\n",
    "#"
   ],
   "metadata": {
    "collapsed": false,
    "pycharm": {
     "name": "#%%\n"
    }
   }
  },
  {
   "cell_type": "code",
   "execution_count": null,
   "outputs": [],
   "source": [
    "# Asia_importQ_Urea['Tajikistan'].fillna(0,inplace=True)\n",
    "# for (columnName,columnData ) in Asia_importQ_Urea.iteritems():\n",
    "#     Asia_importQ_Urea[columnName].fillna(columnData.mean(),inplace=True)\n",
    "#"
   ],
   "metadata": {
    "collapsed": false,
    "pycharm": {
     "name": "#%%\n"
    }
   }
  },
  {
   "cell_type": "code",
   "execution_count": null,
   "outputs": [],
   "source": [
    "# Asia_importQ_Urea.head()\n",
    "#"
   ],
   "metadata": {
    "collapsed": false,
    "pycharm": {
     "name": "#%%\n"
    }
   }
  },
  {
   "cell_type": "code",
   "execution_count": null,
   "outputs": [],
   "source": [
    "# Asia_importQ_Urea.to_csv('Processed_data.csv')"
   ],
   "metadata": {
    "collapsed": false,
    "pycharm": {
     "name": "#%%\n"
    }
   }
  }
 ],
 "metadata": {
  "kernelspec": {
   "display_name": "Python 3",
   "language": "python",
   "name": "python3"
  },
  "language_info": {
   "codemirror_mode": {
    "name": "ipython",
    "version": 3
   },
   "file_extension": ".py",
   "mimetype": "text/x-python",
   "name": "python",
   "nbconvert_exporter": "python",
   "pygments_lexer": "ipython3",
   "version": "3.8.3"
  }
 },
 "nbformat": 4,
 "nbformat_minor": 1
}