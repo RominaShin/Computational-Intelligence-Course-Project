{
 "cells": [
  {
   "cell_type": "markdown",
   "source": [
    "<h1 style='direction : rtl;font-family:Calibri'>\n",
    "انتخاب کودهای جدید و ساخت شبکه های جدید LSTM بر مبنای اولویت انتخاب کود بر اساس دسترس پذیری\n",
    "</h1>"
   ],
   "metadata": {
    "collapsed": false
   }
  },
  {
   "cell_type": "markdown",
   "source": [
    "<h4 style='direction : rtl;font-family:Calibri'>\n",
    "برای ساخت مدل بر اساس اولویت انتخاب کود در مجموعه چند کشور نیاز به دیتاست های import,Agriculture,production نیاز داریم.\n",
    "همچنین بر اساس تحلیل جدید که روی داده ها دوباره انجام دادیم(مطابق مراحل پایین)مجموعه کشورهای ... انتخاب شدند.\n",
    "53 کود که بیشترین تولید و مصرف کشاورزی را در میان سایر کودهای این کشورها داشتند گزینش کردیم.\n",
    "شامل: 'Superphosphates above 35%'و'Superphosphatesو 'Urea'\n",
    "</h4>\n",
    "    "
   ],
   "metadata": {
    "collapsed": false
   }
  },
  {
   "cell_type": "markdown",
   "source": [
    "---"
   ],
   "metadata": {
    "collapsed": false
   }
  },
  {
   "cell_type": "code",
   "execution_count": 2,
   "outputs": [],
   "source": [
    "import numpy as np\n",
    "import pandas as pd\n",
    "import matplotlib.pyplot as plt\n",
    "import seaborn as sns"
   ],
   "metadata": {
    "collapsed": false,
    "pycharm": {
     "name": "#%%\n"
    }
   }
  },
  {
   "cell_type": "code",
   "execution_count": 3,
   "outputs": [],
   "source": [
    "import os\n",
    "os.chdir('c:\\\\Users\\\\ASUS\\\\Projects\\\\CI')"
   ],
   "metadata": {
    "collapsed": false,
    "pycharm": {
     "name": "#%%\n"
    }
   }
  },
  {
   "cell_type": "code",
   "execution_count": 4,
   "outputs": [],
   "source": [
    "df = pd.read_csv('Asia.csv',encoding='latin-1',index_col='Year')\n",
    "df = df.drop('Flag',axis=1)"
   ],
   "metadata": {
    "collapsed": false,
    "pycharm": {
     "name": "#%%\n"
    }
   }
  },
  {
   "cell_type": "code",
   "execution_count": 5,
   "outputs": [
    {
     "data": {
      "text/plain": "             Area                Item          Element  Value\nYear                                                         \n2011  Afghanistan  Ammonia, anhydrous  Import Quantity   4.49\n2014  Afghanistan  Ammonia, anhydrous  Import Quantity   2.00\n2017  Afghanistan  Ammonia, anhydrous  Import Quantity   2.07\n2011  Afghanistan  Ammonia, anhydrous     Import Value   2.69\n2014  Afghanistan  Ammonia, anhydrous     Import Value   1.07",
      "text/html": "<div>\n<style scoped>\n    .dataframe tbody tr th:only-of-type {\n        vertical-align: middle;\n    }\n\n    .dataframe tbody tr th {\n        vertical-align: top;\n    }\n\n    .dataframe thead th {\n        text-align: right;\n    }\n</style>\n<table border=\"1\" class=\"dataframe\">\n  <thead>\n    <tr style=\"text-align: right;\">\n      <th></th>\n      <th>Area</th>\n      <th>Item</th>\n      <th>Element</th>\n      <th>Value</th>\n    </tr>\n    <tr>\n      <th>Year</th>\n      <th></th>\n      <th></th>\n      <th></th>\n      <th></th>\n    </tr>\n  </thead>\n  <tbody>\n    <tr>\n      <th>2011</th>\n      <td>Afghanistan</td>\n      <td>Ammonia, anhydrous</td>\n      <td>Import Quantity</td>\n      <td>4.49</td>\n    </tr>\n    <tr>\n      <th>2014</th>\n      <td>Afghanistan</td>\n      <td>Ammonia, anhydrous</td>\n      <td>Import Quantity</td>\n      <td>2.00</td>\n    </tr>\n    <tr>\n      <th>2017</th>\n      <td>Afghanistan</td>\n      <td>Ammonia, anhydrous</td>\n      <td>Import Quantity</td>\n      <td>2.07</td>\n    </tr>\n    <tr>\n      <th>2011</th>\n      <td>Afghanistan</td>\n      <td>Ammonia, anhydrous</td>\n      <td>Import Value</td>\n      <td>2.69</td>\n    </tr>\n    <tr>\n      <th>2014</th>\n      <td>Afghanistan</td>\n      <td>Ammonia, anhydrous</td>\n      <td>Import Value</td>\n      <td>1.07</td>\n    </tr>\n  </tbody>\n</table>\n</div>"
     },
     "execution_count": 5,
     "metadata": {},
     "output_type": "execute_result"
    }
   ],
   "source": [
    "df.head()"
   ],
   "metadata": {
    "collapsed": false,
    "pycharm": {
     "name": "#%%\n"
    }
   }
  },
  {
   "cell_type": "markdown",
   "source": [
    "<h4 style='direction : rtl;font-family:Calibri'>\n",
    "با فرض اینکه در دسترس ترین کود، کودیست که در کشور تولید و مهم ترین کود کودیست که در کشاورزی مصرف میشود، این دو فاکتور را روی دیتاهای موجود اعمال میکنیم تا کشوری با دیتای غنی تر را بیابیم.\n",
    "</h4>"
   ],
   "metadata": {
    "collapsed": false,
    "pycharm": {
     "name": "#%% md\n"
    }
   }
  },
  {
   "cell_type": "code",
   "execution_count": 6,
   "outputs": [],
   "source": [
    "AsiaProd = pd.read_csv('Asia_Production.csv',index_col='Year')"
   ],
   "metadata": {
    "collapsed": false,
    "pycharm": {
     "name": "#%%\n"
    }
   }
  },
  {
   "cell_type": "code",
   "execution_count": 7,
   "outputs": [
    {
     "data": {
      "text/plain": "             Area                        Item    Value\nYear                                                  \n2013  Afghanistan  Diammonium phosphate (DAP)   3346.0\n2014  Afghanistan  Diammonium phosphate (DAP)   3346.0\n2015  Afghanistan  Diammonium phosphate (DAP)   3346.0\n2016  Afghanistan  Diammonium phosphate (DAP)   3346.0\n2002  Afghanistan                        Urea  50900.0",
      "text/html": "<div>\n<style scoped>\n    .dataframe tbody tr th:only-of-type {\n        vertical-align: middle;\n    }\n\n    .dataframe tbody tr th {\n        vertical-align: top;\n    }\n\n    .dataframe thead th {\n        text-align: right;\n    }\n</style>\n<table border=\"1\" class=\"dataframe\">\n  <thead>\n    <tr style=\"text-align: right;\">\n      <th></th>\n      <th>Area</th>\n      <th>Item</th>\n      <th>Value</th>\n    </tr>\n    <tr>\n      <th>Year</th>\n      <th></th>\n      <th></th>\n      <th></th>\n    </tr>\n  </thead>\n  <tbody>\n    <tr>\n      <th>2013</th>\n      <td>Afghanistan</td>\n      <td>Diammonium phosphate (DAP)</td>\n      <td>3346.0</td>\n    </tr>\n    <tr>\n      <th>2014</th>\n      <td>Afghanistan</td>\n      <td>Diammonium phosphate (DAP)</td>\n      <td>3346.0</td>\n    </tr>\n    <tr>\n      <th>2015</th>\n      <td>Afghanistan</td>\n      <td>Diammonium phosphate (DAP)</td>\n      <td>3346.0</td>\n    </tr>\n    <tr>\n      <th>2016</th>\n      <td>Afghanistan</td>\n      <td>Diammonium phosphate (DAP)</td>\n      <td>3346.0</td>\n    </tr>\n    <tr>\n      <th>2002</th>\n      <td>Afghanistan</td>\n      <td>Urea</td>\n      <td>50900.0</td>\n    </tr>\n  </tbody>\n</table>\n</div>"
     },
     "execution_count": 7,
     "metadata": {},
     "output_type": "execute_result"
    }
   ],
   "source": [
    "AsiaProd.head()"
   ],
   "metadata": {
    "collapsed": false,
    "pycharm": {
     "name": "#%%\n"
    }
   }
  },
  {
   "cell_type": "code",
   "execution_count": 8,
   "outputs": [
    {
     "data": {
      "text/plain": "             Area                        Item    Value  Progress\nYear                                                            \n2013  Afghanistan  Diammonium phosphate (DAP)   3346.0       NaN\n2014  Afghanistan  Diammonium phosphate (DAP)   3346.0       0.0\n2015  Afghanistan  Diammonium phosphate (DAP)   3346.0       0.0\n2016  Afghanistan  Diammonium phosphate (DAP)   3346.0       0.0\n2002  Afghanistan                        Urea  50900.0   47554.0",
      "text/html": "<div>\n<style scoped>\n    .dataframe tbody tr th:only-of-type {\n        vertical-align: middle;\n    }\n\n    .dataframe tbody tr th {\n        vertical-align: top;\n    }\n\n    .dataframe thead th {\n        text-align: right;\n    }\n</style>\n<table border=\"1\" class=\"dataframe\">\n  <thead>\n    <tr style=\"text-align: right;\">\n      <th></th>\n      <th>Area</th>\n      <th>Item</th>\n      <th>Value</th>\n      <th>Progress</th>\n    </tr>\n    <tr>\n      <th>Year</th>\n      <th></th>\n      <th></th>\n      <th></th>\n      <th></th>\n    </tr>\n  </thead>\n  <tbody>\n    <tr>\n      <th>2013</th>\n      <td>Afghanistan</td>\n      <td>Diammonium phosphate (DAP)</td>\n      <td>3346.0</td>\n      <td>NaN</td>\n    </tr>\n    <tr>\n      <th>2014</th>\n      <td>Afghanistan</td>\n      <td>Diammonium phosphate (DAP)</td>\n      <td>3346.0</td>\n      <td>0.0</td>\n    </tr>\n    <tr>\n      <th>2015</th>\n      <td>Afghanistan</td>\n      <td>Diammonium phosphate (DAP)</td>\n      <td>3346.0</td>\n      <td>0.0</td>\n    </tr>\n    <tr>\n      <th>2016</th>\n      <td>Afghanistan</td>\n      <td>Diammonium phosphate (DAP)</td>\n      <td>3346.0</td>\n      <td>0.0</td>\n    </tr>\n    <tr>\n      <th>2002</th>\n      <td>Afghanistan</td>\n      <td>Urea</td>\n      <td>50900.0</td>\n      <td>47554.0</td>\n    </tr>\n  </tbody>\n</table>\n</div>"
     },
     "execution_count": 8,
     "metadata": {},
     "output_type": "execute_result"
    }
   ],
   "source": [
    "AsiaProd['Progress'] = AsiaProd['Value'] - AsiaProd['Value'].shift(1)\n",
    "AsiaProd.head()"
   ],
   "metadata": {
    "collapsed": false,
    "pycharm": {
     "name": "#%%\n"
    }
   }
  },
  {
   "cell_type": "code",
   "execution_count": 9,
   "outputs": [
    {
     "data": {
      "text/plain": "                                                            Progress\nArea        Item                                                    \nAfghanistan Diammonium phosphate (DAP)                      0.000000\n            Urea                                         1866.266667\nBahrain     Urea                                        44177.333333\nBangladesh  Ammonium sulphate                         -137800.000000\n            Diammonium phosphate (DAP)                  10777.777778\n...                                                              ...\nUzbekistan  Urea and ammonium nitrate solutions (UAN)  -99064.333333\nViet Nam    Fertilizers n.e.c.                         102351.000000\n            NPK fertilizers                            394337.142857\n            Superphosphates above 35%                 -138262.500000\n            Urea                                        68493.750000\n\n[277 rows x 1 columns]",
      "text/html": "<div>\n<style scoped>\n    .dataframe tbody tr th:only-of-type {\n        vertical-align: middle;\n    }\n\n    .dataframe tbody tr th {\n        vertical-align: top;\n    }\n\n    .dataframe thead th {\n        text-align: right;\n    }\n</style>\n<table border=\"1\" class=\"dataframe\">\n  <thead>\n    <tr style=\"text-align: right;\">\n      <th></th>\n      <th></th>\n      <th>Progress</th>\n    </tr>\n    <tr>\n      <th>Area</th>\n      <th>Item</th>\n      <th></th>\n    </tr>\n  </thead>\n  <tbody>\n    <tr>\n      <th rowspan=\"2\" valign=\"top\">Afghanistan</th>\n      <th>Diammonium phosphate (DAP)</th>\n      <td>0.000000</td>\n    </tr>\n    <tr>\n      <th>Urea</th>\n      <td>1866.266667</td>\n    </tr>\n    <tr>\n      <th>Bahrain</th>\n      <th>Urea</th>\n      <td>44177.333333</td>\n    </tr>\n    <tr>\n      <th rowspan=\"2\" valign=\"top\">Bangladesh</th>\n      <th>Ammonium sulphate</th>\n      <td>-137800.000000</td>\n    </tr>\n    <tr>\n      <th>Diammonium phosphate (DAP)</th>\n      <td>10777.777778</td>\n    </tr>\n    <tr>\n      <th>...</th>\n      <th>...</th>\n      <td>...</td>\n    </tr>\n    <tr>\n      <th>Uzbekistan</th>\n      <th>Urea and ammonium nitrate solutions (UAN)</th>\n      <td>-99064.333333</td>\n    </tr>\n    <tr>\n      <th rowspan=\"4\" valign=\"top\">Viet Nam</th>\n      <th>Fertilizers n.e.c.</th>\n      <td>102351.000000</td>\n    </tr>\n    <tr>\n      <th>NPK fertilizers</th>\n      <td>394337.142857</td>\n    </tr>\n    <tr>\n      <th>Superphosphates above 35%</th>\n      <td>-138262.500000</td>\n    </tr>\n    <tr>\n      <th>Urea</th>\n      <td>68493.750000</td>\n    </tr>\n  </tbody>\n</table>\n<p>277 rows × 1 columns</p>\n</div>"
     },
     "execution_count": 9,
     "metadata": {},
     "output_type": "execute_result"
    }
   ],
   "source": [
    "AsiaProdVal = pd.DataFrame(AsiaProd.groupby(by=['Area','Item']).mean()['Progress'])\n",
    "AsiaProdVal"
   ],
   "metadata": {
    "collapsed": false,
    "pycharm": {
     "name": "#%%\n"
    }
   }
  },
  {
   "cell_type": "code",
   "execution_count": 35,
   "outputs": [],
   "source": [
    "AsiaProdVal = AsiaProdVal.reset_index()"
   ],
   "metadata": {
    "collapsed": false,
    "pycharm": {
     "name": "#%%\n"
    }
   }
  },
  {
   "cell_type": "code",
   "execution_count": 56,
   "outputs": [],
   "source": [
    "candidate_countries = []\n",
    "candidate_fertilizer = []\n",
    "count = 0\n",
    "for i in range(0,273):\n",
    "    while AsiaProdVal.iloc[i].name[0] == AsiaProdVal.iloc[i+1].name[0]:\n",
    "        count = count +1\n",
    "        i =i +1\n",
    "    i = i-1\n",
    "    if(count > 4 ):\n",
    "        candidate_countries.append(AsiaProdVal.iloc[i].name[0])\n",
    "        candidate_fertilizer.append(AsiaProdVal.iloc[i].name[1])\n",
    "\n",
    "    count = 0"
   ],
   "metadata": {
    "collapsed": false,
    "pycharm": {
     "name": "#%%\n"
    }
   }
  },
  {
   "cell_type": "code",
   "execution_count": 57,
   "outputs": [
    {
     "data": {
      "text/plain": "array(['Bangladesh', 'Bhutan', 'Brunei Darussalam', 'India', 'Indonesia',\n       'Iran (Islamic Republic of)', 'Iraq', 'Israel', 'Japan',\n       'Kazakhstan', 'Kyrgyzstan', 'Maldives', 'Nepal', 'Pakistan',\n       'Philippines', 'Republic of Korea', 'Russian Federation',\n       'Saudi Arabia', 'Turkey', 'Uzbekistan'], dtype='<U26')"
     },
     "execution_count": 57,
     "metadata": {},
     "output_type": "execute_result"
    }
   ],
   "source": [
    "\n",
    "np.unique(candidate_countries)"
   ],
   "metadata": {
    "collapsed": false,
    "pycharm": {
     "name": "#%%\n"
    }
   }
  },
  {
   "cell_type": "code",
   "execution_count": 58,
   "outputs": [
    {
     "data": {
      "text/plain": "array(['Phosphate rock', 'Superphosphates above 35%',\n       'Superphosphates, other', 'Urea'], dtype='<U25')"
     },
     "execution_count": 58,
     "metadata": {},
     "output_type": "execute_result"
    }
   ],
   "source": [
    "np.unique(candidate_fertilizer)"
   ],
   "metadata": {
    "collapsed": false,
    "pycharm": {
     "name": "#%%\n"
    }
   }
  },
  {
   "cell_type": "markdown",
   "source": [
    "<h4 style='direction : rtl;font-family:Calibri'>\n",
    "بخش کشاورزی\n",
    "</h4>"
   ],
   "metadata": {
    "collapsed": false,
    "pycharm": {
     "name": "#%% md\n"
    }
   }
  },
  {
   "cell_type": "code",
   "execution_count": 69,
   "outputs": [],
   "source": [
    "AsiaAgri = pd.read_csv('Asia - Agriculture.csv',index_col='Year')\n",
    "AsiaAgri = AsiaAgri.drop(['Area Code','Item Code','Element Code','Unit','Flag','continent','Element','Year Code'],axis=1)\n",
    "#AsiaAgri.set_index('Year Code')"
   ],
   "metadata": {
    "collapsed": false,
    "pycharm": {
     "name": "#%%\n"
    }
   }
  },
  {
   "cell_type": "code",
   "execution_count": 70,
   "outputs": [
    {
     "data": {
      "text/plain": "             Area             Item    Value\nYear                                       \n2002  Afghanistan  NPK fertilizers  17900.0\n2003  Afghanistan  NPK fertilizers  33200.0\n2004  Afghanistan  NPK fertilizers  47700.0\n2004  Afghanistan             Urea  42300.0\n2005  Afghanistan             Urea  20577.0",
      "text/html": "<div>\n<style scoped>\n    .dataframe tbody tr th:only-of-type {\n        vertical-align: middle;\n    }\n\n    .dataframe tbody tr th {\n        vertical-align: top;\n    }\n\n    .dataframe thead th {\n        text-align: right;\n    }\n</style>\n<table border=\"1\" class=\"dataframe\">\n  <thead>\n    <tr style=\"text-align: right;\">\n      <th></th>\n      <th>Area</th>\n      <th>Item</th>\n      <th>Value</th>\n    </tr>\n    <tr>\n      <th>Year</th>\n      <th></th>\n      <th></th>\n      <th></th>\n    </tr>\n  </thead>\n  <tbody>\n    <tr>\n      <th>2002</th>\n      <td>Afghanistan</td>\n      <td>NPK fertilizers</td>\n      <td>17900.0</td>\n    </tr>\n    <tr>\n      <th>2003</th>\n      <td>Afghanistan</td>\n      <td>NPK fertilizers</td>\n      <td>33200.0</td>\n    </tr>\n    <tr>\n      <th>2004</th>\n      <td>Afghanistan</td>\n      <td>NPK fertilizers</td>\n      <td>47700.0</td>\n    </tr>\n    <tr>\n      <th>2004</th>\n      <td>Afghanistan</td>\n      <td>Urea</td>\n      <td>42300.0</td>\n    </tr>\n    <tr>\n      <th>2005</th>\n      <td>Afghanistan</td>\n      <td>Urea</td>\n      <td>20577.0</td>\n    </tr>\n  </tbody>\n</table>\n</div>"
     },
     "execution_count": 70,
     "metadata": {},
     "output_type": "execute_result"
    }
   ],
   "source": [
    "AsiaAgri.head()"
   ],
   "metadata": {
    "collapsed": false,
    "pycharm": {
     "name": "#%%\n"
    }
   }
  },
  {
   "cell_type": "code",
   "execution_count": 72,
   "outputs": [
    {
     "data": {
      "text/plain": "             Area             Item    Value  Progress\nYear                                                 \n2002  Afghanistan  NPK fertilizers  17900.0       NaN\n2003  Afghanistan  NPK fertilizers  33200.0   15300.0\n2004  Afghanistan  NPK fertilizers  47700.0   14500.0\n2004  Afghanistan             Urea  42300.0   -5400.0\n2005  Afghanistan             Urea  20577.0  -21723.0",
      "text/html": "<div>\n<style scoped>\n    .dataframe tbody tr th:only-of-type {\n        vertical-align: middle;\n    }\n\n    .dataframe tbody tr th {\n        vertical-align: top;\n    }\n\n    .dataframe thead th {\n        text-align: right;\n    }\n</style>\n<table border=\"1\" class=\"dataframe\">\n  <thead>\n    <tr style=\"text-align: right;\">\n      <th></th>\n      <th>Area</th>\n      <th>Item</th>\n      <th>Value</th>\n      <th>Progress</th>\n    </tr>\n    <tr>\n      <th>Year</th>\n      <th></th>\n      <th></th>\n      <th></th>\n      <th></th>\n    </tr>\n  </thead>\n  <tbody>\n    <tr>\n      <th>2002</th>\n      <td>Afghanistan</td>\n      <td>NPK fertilizers</td>\n      <td>17900.0</td>\n      <td>NaN</td>\n    </tr>\n    <tr>\n      <th>2003</th>\n      <td>Afghanistan</td>\n      <td>NPK fertilizers</td>\n      <td>33200.0</td>\n      <td>15300.0</td>\n    </tr>\n    <tr>\n      <th>2004</th>\n      <td>Afghanistan</td>\n      <td>NPK fertilizers</td>\n      <td>47700.0</td>\n      <td>14500.0</td>\n    </tr>\n    <tr>\n      <th>2004</th>\n      <td>Afghanistan</td>\n      <td>Urea</td>\n      <td>42300.0</td>\n      <td>-5400.0</td>\n    </tr>\n    <tr>\n      <th>2005</th>\n      <td>Afghanistan</td>\n      <td>Urea</td>\n      <td>20577.0</td>\n      <td>-21723.0</td>\n    </tr>\n  </tbody>\n</table>\n</div>"
     },
     "execution_count": 72,
     "metadata": {},
     "output_type": "execute_result"
    }
   ],
   "source": [
    "AsiaAgri['Progress'] = AsiaAgri['Value'] - AsiaAgri['Value'].shift(1)\n",
    "AsiaAgri.head()"
   ],
   "metadata": {
    "collapsed": false,
    "pycharm": {
     "name": "#%%\n"
    }
   }
  },
  {
   "cell_type": "code",
   "execution_count": 73,
   "outputs": [
    {
     "data": {
      "text/plain": "                                                                    Progress\nArea        Item                                                            \nAfghanistan NPK fertilizers                                     14900.000000\n            Urea                                                 7441.000000\nArmenia     Ammonium nitrate (AN)                               -7358.100000\n            Ammonium sulphate                                   -3364.200000\n            Calcium ammonium nitrate (CAN) and other mixtur...     39.800000\n...                                                                      ...\nYemen       Other NP compounds                                     27.250000\n            Potassium chloride (muriate of potash) (MOP)          111.000000\n            Superphosphates above 35%                            -304.666667\n            Urea                                                 4273.428571\n            Urea and ammonium nitrate solutions (UAN)           -7494.000000\n\n[499 rows x 1 columns]",
      "text/html": "<div>\n<style scoped>\n    .dataframe tbody tr th:only-of-type {\n        vertical-align: middle;\n    }\n\n    .dataframe tbody tr th {\n        vertical-align: top;\n    }\n\n    .dataframe thead th {\n        text-align: right;\n    }\n</style>\n<table border=\"1\" class=\"dataframe\">\n  <thead>\n    <tr style=\"text-align: right;\">\n      <th></th>\n      <th></th>\n      <th>Progress</th>\n    </tr>\n    <tr>\n      <th>Area</th>\n      <th>Item</th>\n      <th></th>\n    </tr>\n  </thead>\n  <tbody>\n    <tr>\n      <th rowspan=\"2\" valign=\"top\">Afghanistan</th>\n      <th>NPK fertilizers</th>\n      <td>14900.000000</td>\n    </tr>\n    <tr>\n      <th>Urea</th>\n      <td>7441.000000</td>\n    </tr>\n    <tr>\n      <th rowspan=\"3\" valign=\"top\">Armenia</th>\n      <th>Ammonium nitrate (AN)</th>\n      <td>-7358.100000</td>\n    </tr>\n    <tr>\n      <th>Ammonium sulphate</th>\n      <td>-3364.200000</td>\n    </tr>\n    <tr>\n      <th>Calcium ammonium nitrate (CAN) and other mixtures with calcium carbonate</th>\n      <td>39.800000</td>\n    </tr>\n    <tr>\n      <th>...</th>\n      <th>...</th>\n      <td>...</td>\n    </tr>\n    <tr>\n      <th rowspan=\"5\" valign=\"top\">Yemen</th>\n      <th>Other NP compounds</th>\n      <td>27.250000</td>\n    </tr>\n    <tr>\n      <th>Potassium chloride (muriate of potash) (MOP)</th>\n      <td>111.000000</td>\n    </tr>\n    <tr>\n      <th>Superphosphates above 35%</th>\n      <td>-304.666667</td>\n    </tr>\n    <tr>\n      <th>Urea</th>\n      <td>4273.428571</td>\n    </tr>\n    <tr>\n      <th>Urea and ammonium nitrate solutions (UAN)</th>\n      <td>-7494.000000</td>\n    </tr>\n  </tbody>\n</table>\n<p>499 rows × 1 columns</p>\n</div>"
     },
     "execution_count": 73,
     "metadata": {},
     "output_type": "execute_result"
    }
   ],
   "source": [
    "AsiaAgri = pd.DataFrame(AsiaAgri.groupby(by=['Area','Item']).mean()['Progress'])\n",
    "AsiaAgri"
   ],
   "metadata": {
    "collapsed": false,
    "pycharm": {
     "name": "#%%\n"
    }
   }
  },
  {
   "cell_type": "code",
   "execution_count": null,
   "outputs": [],
   "source": [
    "#AsiaAgri = AsiaAgri.reset_index()"
   ],
   "metadata": {
    "collapsed": false,
    "pycharm": {
     "name": "#%%\n"
    }
   }
  },
  {
   "cell_type": "code",
   "execution_count": 77,
   "outputs": [],
   "source": [
    "candidateAgri_countries = []\n",
    "candidateAgri_fertilizer = []\n",
    "count = 0\n",
    "for i in range(0,490):\n",
    "    while AsiaAgri.iloc[i].name[0] == AsiaAgri.iloc[i+1].name[0]:\n",
    "        count = count +1\n",
    "        i =i +1\n",
    "    i = i-1\n",
    "    if(count > 4 ):\n",
    "        candidateAgri_countries.append(AsiaAgri.iloc[i].name[0])\n",
    "        candidateAgri_fertilizer.append(AsiaAgri.iloc[i].name[1])\n",
    "\n",
    "    count = 0"
   ],
   "metadata": {
    "collapsed": false,
    "pycharm": {
     "name": "#%%\n"
    }
   }
  },
  {
   "cell_type": "code",
   "execution_count": 79,
   "outputs": [
    {
     "data": {
      "text/plain": "array(['Armenia', 'Bahrain', 'Bangladesh', 'Bhutan', 'Brunei Darussalam',\n       'Cambodia', 'China, Hong Kong SAR', 'China, Macao SAR',\n       'China, Taiwan Province of', 'China, mainland', 'India',\n       'Indonesia', 'Iran (Islamic Republic of)', 'Iraq', 'Israel',\n       'Japan', 'Jordan', 'Kazakhstan', 'Kuwait', 'Kyrgyzstan', 'Lebanon',\n       'Malaysia', 'Maldives', 'Mongolia', 'Myanmar', 'Nepal', 'Oman',\n       'Pakistan', 'Philippines', 'Republic of Korea', 'Saudi Arabia',\n       'Singapore', 'Sri Lanka', 'Syrian Arab Republic', 'Tajikistan',\n       'Thailand', 'Turkey', 'Viet Nam'], dtype='<U26')"
     },
     "execution_count": 79,
     "metadata": {},
     "output_type": "execute_result"
    }
   ],
   "source": [
    "\n",
    "np.unique(candidateAgri_countries)"
   ],
   "metadata": {
    "collapsed": false,
    "pycharm": {
     "name": "#%%\n"
    }
   }
  },
  {
   "cell_type": "code",
   "execution_count": 80,
   "outputs": [
    {
     "data": {
      "text/plain": "array(['Superphosphates above 35%', 'Superphosphates, other', 'Urea'],\n      dtype='<U25')"
     },
     "execution_count": 80,
     "metadata": {},
     "output_type": "execute_result"
    }
   ],
   "source": [
    "np.unique(candidateAgri_fertilizer)"
   ],
   "metadata": {
    "collapsed": false,
    "pycharm": {
     "name": "#%%\n"
    }
   }
  },
  {
   "cell_type": "code",
   "execution_count": 81,
   "outputs": [
    {
     "data": {
      "text/plain": "array(['Bangladesh', 'Bhutan', 'Brunei Darussalam', 'India', 'Indonesia',\n       'Iran (Islamic Republic of)', 'Iraq', 'Israel', 'Japan',\n       'Kazakhstan', 'Kyrgyzstan', 'Maldives', 'Nepal', 'Pakistan',\n       'Philippines', 'Republic of Korea', 'Saudi Arabia', 'Turkey'],\n      dtype='<U26')"
     },
     "execution_count": 81,
     "metadata": {},
     "output_type": "execute_result"
    }
   ],
   "source": [
    "np.intersect1d(np.unique(candidate_countries),np.unique(candidateAgri_countries))"
   ],
   "metadata": {
    "collapsed": false,
    "pycharm": {
     "name": "#%%\n"
    }
   }
  },
  {
   "cell_type": "code",
   "execution_count": null,
   "outputs": [],
   "source": [],
   "metadata": {
    "collapsed": false,
    "pycharm": {
     "name": "#%%\n"
    }
   }
  }
 ],
 "metadata": {
  "kernelspec": {
   "display_name": "Python 3",
   "language": "python",
   "name": "python3"
  },
  "language_info": {
   "codemirror_mode": {
    "name": "ipython",
    "version": 3
   },
   "file_extension": ".py",
   "mimetype": "text/x-python",
   "name": "python",
   "nbconvert_exporter": "python",
   "pygments_lexer": "ipython3",
   "version": "3.8.3"
  }
 },
 "nbformat": 4,
 "nbformat_minor": 1
}