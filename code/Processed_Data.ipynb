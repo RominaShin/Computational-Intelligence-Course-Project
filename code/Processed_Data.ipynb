{
 "cells": [
  {
   "cell_type": "code",
   "execution_count": 2,
   "metadata": {
    "collapsed": true
   },
   "outputs": [],
   "source": [
    "import numpy as np\n",
    "import pandas as pd\n",
    "import matplotlib.pyplot as plt\n",
    "import seaborn as sns\n",
    "import os"
   ]
  },
  {
   "cell_type": "code",
   "execution_count": 6,
   "outputs": [
    {
     "data": {
      "text/plain": "             Area                   Item    Value\nYear                                             \n2011  Afghanistan     Ammonia, anhydrous     4.49\n2014  Afghanistan     Ammonia, anhydrous     2.00\n2017  Afghanistan     Ammonia, anhydrous     2.07\n2002  Afghanistan  Ammonium nitrate (AN)  1786.13\n2007  Afghanistan  Ammonium nitrate (AN)     0.64",
      "text/html": "<div>\n<style scoped>\n    .dataframe tbody tr th:only-of-type {\n        vertical-align: middle;\n    }\n\n    .dataframe tbody tr th {\n        vertical-align: top;\n    }\n\n    .dataframe thead th {\n        text-align: right;\n    }\n</style>\n<table border=\"1\" class=\"dataframe\">\n  <thead>\n    <tr style=\"text-align: right;\">\n      <th></th>\n      <th>Area</th>\n      <th>Item</th>\n      <th>Value</th>\n    </tr>\n    <tr>\n      <th>Year</th>\n      <th></th>\n      <th></th>\n      <th></th>\n    </tr>\n  </thead>\n  <tbody>\n    <tr>\n      <th>2011</th>\n      <td>Afghanistan</td>\n      <td>Ammonia, anhydrous</td>\n      <td>4.49</td>\n    </tr>\n    <tr>\n      <th>2014</th>\n      <td>Afghanistan</td>\n      <td>Ammonia, anhydrous</td>\n      <td>2.00</td>\n    </tr>\n    <tr>\n      <th>2017</th>\n      <td>Afghanistan</td>\n      <td>Ammonia, anhydrous</td>\n      <td>2.07</td>\n    </tr>\n    <tr>\n      <th>2002</th>\n      <td>Afghanistan</td>\n      <td>Ammonium nitrate (AN)</td>\n      <td>1786.13</td>\n    </tr>\n    <tr>\n      <th>2007</th>\n      <td>Afghanistan</td>\n      <td>Ammonium nitrate (AN)</td>\n      <td>0.64</td>\n    </tr>\n  </tbody>\n</table>\n</div>"
     },
     "execution_count": 6,
     "metadata": {},
     "output_type": "execute_result"
    }
   ],
   "source": [
    "os.chdir('c:\\\\Users\\\\ASUS\\\\Projects')\n",
    "df = pd.read_csv('CI\\\\Asia_ImportQuantity.csv',encoding='latin-1')\n",
    "df = df.set_index('Year')\n",
    "df.head()"
   ],
   "metadata": {
    "collapsed": false,
    "pycharm": {
     "name": "#%%\n"
    }
   }
  },
  {
   "cell_type": "markdown",
   "source": [
    " Select Item 'Urea' and Quantity Value of Asian Countries in tonnes for Predictions."
   ],
   "metadata": {
    "collapsed": false,
    "pycharm": {
     "name": "#%% md\n"
    }
   }
  },
  {
   "cell_type": "code",
   "execution_count": 7,
   "outputs": [],
   "source": [
    "#df['Item'].value_counts()\n",
    "df = df[df['Item']=='Urea']\n",
    "df = df.drop('Item',axis =1)"
   ],
   "metadata": {
    "collapsed": false,
    "pycharm": {
     "name": "#%%\n"
    }
   }
  },
  {
   "cell_type": "code",
   "execution_count": 15,
   "outputs": [
    {
     "data": {
      "text/plain": "Area  Afghanistan  Armenia  Bahrain  Bangladesh   Bhutan  Brunei Darussalam  \\\nYear                                                                          \n2002      1151.80    13.20   452.70   281270.01      NaN              18.39   \n2003      3002.40    28.02  3069.15    12385.03      NaN             164.14   \n2004          NaN  3481.81  5588.01   303116.29      NaN              22.00   \n2005       222.35     3.20  4577.10   739783.07  4141.16           16532.00   \n2006          NaN   518.34  4466.06  1104629.03  2986.85              17.51   \n\nArea  Cambodia  China, Hong Kong SAR  China, Macao SAR  \\\nYear                                                     \n2002    309.00               1114.03              1.20   \n2003       NaN               1079.59              3.25   \n2004     50.00                981.81               NaN   \n2005       NaN                525.56              1.99   \n2006      0.02                386.86               NaN   \n\nArea  China, Taiwan Province of  ...  Singapore  Sri Lanka  \\\nYear                             ...                         \n2002                  309426.83  ...    2902.53  322243.04   \n2003                  329946.91  ...   15290.69  309638.24   \n2004                  357590.38  ...   18222.00  274998.92   \n2005                  251329.96  ...   20582.40  301910.79   \n2006                  240148.26  ...   22899.09  354376.31   \n\nArea  Syrian Arab Republic  Tajikistan    Thailand      Turkey  \\\nYear                                                             \n2002             122933.00    19338.88  1513339.19   648210.55   \n2003              79530.18     1724.80  1623095.37   696935.73   \n2004             229148.00     2000.00  1687654.17   942173.25   \n2005             198805.00         NaN  1588362.28   808284.41   \n2006              62643.19         NaN  1514897.49  1104413.38   \n\nArea  United Arab Emirates  Uzbekistan    Viet Nam     Yemen  \nYear                                                          \n2002               4009.69        0.04  1603888.85  14031.92  \n2003               5681.18        0.68  1768332.46   8803.14  \n2004               2288.84        0.25  1682610.88  34737.52  \n2005               9204.65         NaN   983139.18   6746.60  \n2006              62399.00         NaN   728750.90  18545.29  \n\n[5 rows x 44 columns]",
      "text/html": "<div>\n<style scoped>\n    .dataframe tbody tr th:only-of-type {\n        vertical-align: middle;\n    }\n\n    .dataframe tbody tr th {\n        vertical-align: top;\n    }\n\n    .dataframe thead th {\n        text-align: right;\n    }\n</style>\n<table border=\"1\" class=\"dataframe\">\n  <thead>\n    <tr style=\"text-align: right;\">\n      <th>Area</th>\n      <th>Afghanistan</th>\n      <th>Armenia</th>\n      <th>Bahrain</th>\n      <th>Bangladesh</th>\n      <th>Bhutan</th>\n      <th>Brunei Darussalam</th>\n      <th>Cambodia</th>\n      <th>China, Hong Kong SAR</th>\n      <th>China, Macao SAR</th>\n      <th>China, Taiwan Province of</th>\n      <th>...</th>\n      <th>Singapore</th>\n      <th>Sri Lanka</th>\n      <th>Syrian Arab Republic</th>\n      <th>Tajikistan</th>\n      <th>Thailand</th>\n      <th>Turkey</th>\n      <th>United Arab Emirates</th>\n      <th>Uzbekistan</th>\n      <th>Viet Nam</th>\n      <th>Yemen</th>\n    </tr>\n    <tr>\n      <th>Year</th>\n      <th></th>\n      <th></th>\n      <th></th>\n      <th></th>\n      <th></th>\n      <th></th>\n      <th></th>\n      <th></th>\n      <th></th>\n      <th></th>\n      <th></th>\n      <th></th>\n      <th></th>\n      <th></th>\n      <th></th>\n      <th></th>\n      <th></th>\n      <th></th>\n      <th></th>\n      <th></th>\n      <th></th>\n    </tr>\n  </thead>\n  <tbody>\n    <tr>\n      <th>2002</th>\n      <td>1151.80</td>\n      <td>13.20</td>\n      <td>452.70</td>\n      <td>281270.01</td>\n      <td>NaN</td>\n      <td>18.39</td>\n      <td>309.00</td>\n      <td>1114.03</td>\n      <td>1.20</td>\n      <td>309426.83</td>\n      <td>...</td>\n      <td>2902.53</td>\n      <td>322243.04</td>\n      <td>122933.00</td>\n      <td>19338.88</td>\n      <td>1513339.19</td>\n      <td>648210.55</td>\n      <td>4009.69</td>\n      <td>0.04</td>\n      <td>1603888.85</td>\n      <td>14031.92</td>\n    </tr>\n    <tr>\n      <th>2003</th>\n      <td>3002.40</td>\n      <td>28.02</td>\n      <td>3069.15</td>\n      <td>12385.03</td>\n      <td>NaN</td>\n      <td>164.14</td>\n      <td>NaN</td>\n      <td>1079.59</td>\n      <td>3.25</td>\n      <td>329946.91</td>\n      <td>...</td>\n      <td>15290.69</td>\n      <td>309638.24</td>\n      <td>79530.18</td>\n      <td>1724.80</td>\n      <td>1623095.37</td>\n      <td>696935.73</td>\n      <td>5681.18</td>\n      <td>0.68</td>\n      <td>1768332.46</td>\n      <td>8803.14</td>\n    </tr>\n    <tr>\n      <th>2004</th>\n      <td>NaN</td>\n      <td>3481.81</td>\n      <td>5588.01</td>\n      <td>303116.29</td>\n      <td>NaN</td>\n      <td>22.00</td>\n      <td>50.00</td>\n      <td>981.81</td>\n      <td>NaN</td>\n      <td>357590.38</td>\n      <td>...</td>\n      <td>18222.00</td>\n      <td>274998.92</td>\n      <td>229148.00</td>\n      <td>2000.00</td>\n      <td>1687654.17</td>\n      <td>942173.25</td>\n      <td>2288.84</td>\n      <td>0.25</td>\n      <td>1682610.88</td>\n      <td>34737.52</td>\n    </tr>\n    <tr>\n      <th>2005</th>\n      <td>222.35</td>\n      <td>3.20</td>\n      <td>4577.10</td>\n      <td>739783.07</td>\n      <td>4141.16</td>\n      <td>16532.00</td>\n      <td>NaN</td>\n      <td>525.56</td>\n      <td>1.99</td>\n      <td>251329.96</td>\n      <td>...</td>\n      <td>20582.40</td>\n      <td>301910.79</td>\n      <td>198805.00</td>\n      <td>NaN</td>\n      <td>1588362.28</td>\n      <td>808284.41</td>\n      <td>9204.65</td>\n      <td>NaN</td>\n      <td>983139.18</td>\n      <td>6746.60</td>\n    </tr>\n    <tr>\n      <th>2006</th>\n      <td>NaN</td>\n      <td>518.34</td>\n      <td>4466.06</td>\n      <td>1104629.03</td>\n      <td>2986.85</td>\n      <td>17.51</td>\n      <td>0.02</td>\n      <td>386.86</td>\n      <td>NaN</td>\n      <td>240148.26</td>\n      <td>...</td>\n      <td>22899.09</td>\n      <td>354376.31</td>\n      <td>62643.19</td>\n      <td>NaN</td>\n      <td>1514897.49</td>\n      <td>1104413.38</td>\n      <td>62399.00</td>\n      <td>NaN</td>\n      <td>728750.90</td>\n      <td>18545.29</td>\n    </tr>\n  </tbody>\n</table>\n<p>5 rows × 44 columns</p>\n</div>"
     },
     "execution_count": 15,
     "metadata": {},
     "output_type": "execute_result"
    }
   ],
   "source": [
    "Asia_importQ_Urea = df.pivot_table(columns='Area',values='Value',index='Year')\n",
    "Asia_importQ_Urea.head()"
   ],
   "metadata": {
    "collapsed": false,
    "pycharm": {
     "name": "#%%\n"
    }
   }
  },
  {
   "cell_type": "markdown",
   "source": [
    "Handling Missing Values"
   ],
   "metadata": {
    "collapsed": false,
    "pycharm": {
     "name": "#%% md\n"
    }
   }
  },
  {
   "cell_type": "code",
   "execution_count": 9,
   "outputs": [
    {
     "data": {
      "text/plain": "Area\nAfghanistan                   5\nArmenia                       0\nBahrain                       0\nBangladesh                    0\nBhutan                        8\nBrunei Darussalam             0\nCambodia                      3\nChina, Hong Kong SAR          0\nChina, Macao SAR              9\nChina, Taiwan Province of     0\nChina, mainland               0\nIndia                         0\nIndonesia                     0\nIran (Islamic Republic of)    0\nIraq                          4\nIsrael                        0\nJapan                         0\nJordan                        0\nKazakhstan                    0\nKuwait                        6\nKyrgyzstan                    1\nLebanon                       1\nMalaysia                      0\nMaldives                      0\nMongolia                      0\nMyanmar                       0\nNepal                         6\nOman                          0\nPakistan                      1\nPhilippines                   0\nQatar                         3\nRepublic of Korea             0\nRussian Federation            0\nSaudi Arabia                  7\nSingapore                     0\nSri Lanka                     0\nSyrian Arab Republic          0\nTajikistan                    2\nThailand                      1\nTurkey                        0\nUnited Arab Emirates          0\nUzbekistan                    2\nViet Nam                      0\nYemen                         0\ndtype: int64"
     },
     "execution_count": 9,
     "metadata": {},
     "output_type": "execute_result"
    }
   ],
   "source": [
    "Asia_importQ_Urea.isnull().sum()\n"
   ],
   "metadata": {
    "collapsed": false,
    "pycharm": {
     "name": "#%%\n"
    }
   }
  },
  {
   "cell_type": "code",
   "execution_count": 10,
   "outputs": [],
   "source": [
    "removed_countries = []\n",
    "for (columnName,columnData ) in Asia_importQ_Urea.iteritems():\n",
    "    if (columnData.isnull().sum()) >= 3:\n",
    "        removed_countries.append(columnName)"
   ],
   "metadata": {
    "collapsed": false,
    "pycharm": {
     "name": "#%%\n"
    }
   }
  },
  {
   "cell_type": "code",
   "execution_count": 11,
   "outputs": [
    {
     "data": {
      "text/plain": "['Afghanistan',\n 'Bhutan',\n 'Cambodia',\n 'China, Macao SAR',\n 'Iraq',\n 'Kuwait',\n 'Nepal',\n 'Qatar',\n 'Saudi Arabia']"
     },
     "execution_count": 11,
     "metadata": {},
     "output_type": "execute_result"
    }
   ],
   "source": [
    "removed_countries"
   ],
   "metadata": {
    "collapsed": false,
    "pycharm": {
     "name": "#%%\n"
    }
   }
  },
  {
   "cell_type": "markdown",
   "source": [
    "Handling two countries with most missing values."
   ],
   "metadata": {
    "collapsed": false,
    "pycharm": {
     "name": "#%% md\n"
    }
   }
  },
  {
   "cell_type": "code",
   "execution_count": 16,
   "outputs": [],
   "source": [
    "Asia_importQ_Urea = Asia_importQ_Urea.drop(removed_countries,axis=1)"
   ],
   "metadata": {
    "collapsed": false,
    "pycharm": {
     "name": "#%%\n"
    }
   }
  },
  {
   "cell_type": "code",
   "execution_count": 13,
   "outputs": [
    {
     "data": {
      "text/plain": "<matplotlib.axes._subplots.AxesSubplot at 0x1c71aabb820>"
     },
     "execution_count": 13,
     "metadata": {},
     "output_type": "execute_result"
    },
    {
     "data": {
      "text/plain": "<Figure size 432x288 with 1 Axes>",
      "image/png": "[encoded data removed]"
     },
     "metadata": {
      "needs_background": "light"
     },
     "output_type": "display_data"
    }
   ],
   "source": [
    "Asia_importQ_Urea['Uzbekistan'].plot()\n"
   ],
   "metadata": {
    "collapsed": false,
    "pycharm": {
     "name": "#%%\n"
    }
   }
  },
  {
   "cell_type": "code",
   "execution_count": 14,
   "outputs": [
    {
     "data": {
      "text/plain": "<matplotlib.axes._subplots.AxesSubplot at 0x1c71a890250>"
     },
     "execution_count": 14,
     "metadata": {},
     "output_type": "execute_result"
    },
    {
     "data": {
      "text/plain": "<Figure size 432x288 with 1 Axes>",
      "image/png": "[encoded data removed]"
     },
     "metadata": {
      "needs_background": "light"
     },
     "output_type": "display_data"
    }
   ],
   "source": [
    "Asia_importQ_Urea['Tajikistan'].plot()"
   ],
   "metadata": {
    "collapsed": false,
    "pycharm": {
     "name": "#%%\n"
    }
   }
  },
  {
   "cell_type": "code",
   "execution_count": 17,
   "outputs": [],
   "source": [
    "Asia_importQ_Urea['Tajikistan'].fillna(0,inplace=True)\n",
    "for (columnName,columnData ) in Asia_importQ_Urea.iteritems():\n",
    "    Asia_importQ_Urea[columnName].fillna(columnData.mean(),inplace=True)"
   ],
   "metadata": {
    "collapsed": false,
    "pycharm": {
     "name": "#%%\n"
    }
   }
  },
  {
   "cell_type": "code",
   "execution_count": 18,
   "outputs": [],
   "source": [
    "Asia_importQ_Urea.to_csv('Processed_data.csv')"
   ],
   "metadata": {
    "collapsed": false,
    "pycharm": {
     "name": "#%%\n"
    }
   }
  },
  {
   "cell_type": "code",
   "execution_count": null,
   "outputs": [],
   "source": [],
   "metadata": {
    "collapsed": false,
    "pycharm": {
     "name": "#%%\n"
    }
   }
  }
 ],
 "metadata": {
  "kernelspec": {
   "display_name": "Python 3",
   "language": "python",
   "name": "python3"
  },
  "language_info": {
   "codemirror_mode": {
    "name": "ipython",
    "version": 2
   },
   "file_extension": ".py",
   "mimetype": "text/x-python",
   "name": "python",
   "nbconvert_exporter": "python",
   "pygments_lexer": "ipython2",
   "version": "2.7.6"
  }
 },
 "nbformat": 4,
 "nbformat_minor": 0
}