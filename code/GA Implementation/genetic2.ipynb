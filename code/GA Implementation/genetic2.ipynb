{
 "cells": [
  {
   "cell_type": "code",
   "execution_count": null,
   "metadata": {
    "id": "2e-L28wEAyOA"
   },
   "outputs": [],
   "source": [
    "import pandas as pd\n",
    "import numpy as np\n",
    "from functools import reduce\n",
    "import random"
   ]
  },
  {
   "cell_type": "code",
   "execution_count": null,
   "metadata": {
    "id": "fTv4CT5vAVAR"
   },
   "outputs": [],
   "source": [
    "production_df = pd.read_csv('/content/drive/MyDrive/data/Asia - Production_processed.csv')\n",
    "export_df = pd.read_csv('/content/drive/MyDrive/data/Asia - Export_processed.csv')\n",
    "df = pd.concat([production_df, export_df])\n",
    "neighboring_countries_df = pd.read_csv('https://raw.githubusercontent.com/evpu/Bordering-Countries/master/neighbors.csv')"
   ]
  },
  {
   "cell_type": "code",
   "execution_count": null,
   "metadata": {
    "colab": {
     "base_uri": "https://localhost:8080/"
    },
    "id": "T7Oo8IJdoxCN",
    "outputId": "c1f8cc8c-bcbf-4515-cb29-544fa7b4d4bc"
   },
   "outputs": [],
   "source": [
    "with pd.option_context('display.max_rows', None, 'display.max_columns', None):\n",
    "    print(df)"
   ]
  },
  {
   "cell_type": "code",
   "execution_count": null,
   "metadata": {
    "colab": {
     "base_uri": "https://localhost:8080/"
    },
    "id": "mYov-LhYoytE",
    "outputId": "12dc50f1-404c-41e5-d09d-9e506aa12b6a"
   },
   "outputs": [],
   "source": [
    "with pd.option_context('display.max_rows', None, 'display.max_columns', None):\n",
    "    print(neighboring_countries_df)"
   ]
  },
  {
   "cell_type": "code",
   "execution_count": null,
   "metadata": {
    "colab": {
     "base_uri": "https://localhost:8080/",
     "height": 417
    },
    "id": "b6T4UKXBI_bp",
    "outputId": "89699851-2949-4fd7-d99f-fb443d3e68f7"
   },
   "outputs": [
    {
     "data": {
      "text/html": [
       "<div>\n",
       "<style scoped>\n",
       "    .dataframe tbody tr th:only-of-type {\n",
       "        vertical-align: middle;\n",
       "    }\n",
       "\n",
       "    .dataframe tbody tr th {\n",
       "        vertical-align: top;\n",
       "    }\n",
       "\n",
       "    .dataframe thead th {\n",
       "        text-align: right;\n",
       "    }\n",
       "</style>\n",
       "<table border=\"1\" class=\"dataframe\">\n",
       "  <thead>\n",
       "    <tr style=\"text-align: right;\">\n",
       "      <th></th>\n",
       "      <th>Unnamed: 0</th>\n",
       "      <th>Area Code</th>\n",
       "      <th>Area</th>\n",
       "      <th>Item Code</th>\n",
       "      <th>Item</th>\n",
       "      <th>Year</th>\n",
       "      <th>Value</th>\n",
       "    </tr>\n",
       "  </thead>\n",
       "  <tbody>\n",
       "    <tr>\n",
       "      <th>0</th>\n",
       "      <td>0</td>\n",
       "      <td>2</td>\n",
       "      <td>Afghanistan</td>\n",
       "      <td>4022</td>\n",
       "      <td>Diammonium phosphate (DAP)</td>\n",
       "      <td>2013</td>\n",
       "      <td>3346.00</td>\n",
       "    </tr>\n",
       "    <tr>\n",
       "      <th>1</th>\n",
       "      <td>1</td>\n",
       "      <td>2</td>\n",
       "      <td>Afghanistan</td>\n",
       "      <td>4022</td>\n",
       "      <td>Diammonium phosphate (DAP)</td>\n",
       "      <td>2014</td>\n",
       "      <td>3346.00</td>\n",
       "    </tr>\n",
       "    <tr>\n",
       "      <th>2</th>\n",
       "      <td>2</td>\n",
       "      <td>2</td>\n",
       "      <td>Afghanistan</td>\n",
       "      <td>4022</td>\n",
       "      <td>Diammonium phosphate (DAP)</td>\n",
       "      <td>2015</td>\n",
       "      <td>3346.00</td>\n",
       "    </tr>\n",
       "    <tr>\n",
       "      <th>4</th>\n",
       "      <td>4</td>\n",
       "      <td>2</td>\n",
       "      <td>Afghanistan</td>\n",
       "      <td>4001</td>\n",
       "      <td>Urea</td>\n",
       "      <td>2002</td>\n",
       "      <td>50900.00</td>\n",
       "    </tr>\n",
       "    <tr>\n",
       "      <th>5</th>\n",
       "      <td>5</td>\n",
       "      <td>2</td>\n",
       "      <td>Afghanistan</td>\n",
       "      <td>4001</td>\n",
       "      <td>Urea</td>\n",
       "      <td>2003</td>\n",
       "      <td>35230.00</td>\n",
       "    </tr>\n",
       "    <tr>\n",
       "      <th>...</th>\n",
       "      <td>...</td>\n",
       "      <td>...</td>\n",
       "      <td>...</td>\n",
       "      <td>...</td>\n",
       "      <td>...</td>\n",
       "      <td>...</td>\n",
       "      <td>...</td>\n",
       "    </tr>\n",
       "    <tr>\n",
       "      <th>6817</th>\n",
       "      <td>6817</td>\n",
       "      <td>249</td>\n",
       "      <td>Yemen</td>\n",
       "      <td>4024</td>\n",
       "      <td>Other NP compounds</td>\n",
       "      <td>2006</td>\n",
       "      <td>48.50</td>\n",
       "    </tr>\n",
       "    <tr>\n",
       "      <th>6818</th>\n",
       "      <td>6818</td>\n",
       "      <td>249</td>\n",
       "      <td>Yemen</td>\n",
       "      <td>4014</td>\n",
       "      <td>Other phosphatic fertilizers, n.e.c.</td>\n",
       "      <td>2009</td>\n",
       "      <td>56.25</td>\n",
       "    </tr>\n",
       "    <tr>\n",
       "      <th>6819</th>\n",
       "      <td>6819</td>\n",
       "      <td>249</td>\n",
       "      <td>Yemen</td>\n",
       "      <td>4014</td>\n",
       "      <td>Other phosphatic fertilizers, n.e.c.</td>\n",
       "      <td>2010</td>\n",
       "      <td>1.48</td>\n",
       "    </tr>\n",
       "    <tr>\n",
       "      <th>6820</th>\n",
       "      <td>6820</td>\n",
       "      <td>249</td>\n",
       "      <td>Yemen</td>\n",
       "      <td>4011</td>\n",
       "      <td>Phosphate rock</td>\n",
       "      <td>2009</td>\n",
       "      <td>8.00</td>\n",
       "    </tr>\n",
       "    <tr>\n",
       "      <th>6826</th>\n",
       "      <td>6826</td>\n",
       "      <td>249</td>\n",
       "      <td>Yemen</td>\n",
       "      <td>4001</td>\n",
       "      <td>Urea</td>\n",
       "      <td>2009</td>\n",
       "      <td>0.96</td>\n",
       "    </tr>\n",
       "  </tbody>\n",
       "</table>\n",
       "<p>7747 rows × 7 columns</p>\n",
       "</div>"
      ],
      "text/plain": [
       "      Unnamed: 0  Area Code  ...  Year     Value\n",
       "0              0          2  ...  2013   3346.00\n",
       "1              1          2  ...  2014   3346.00\n",
       "2              2          2  ...  2015   3346.00\n",
       "4              4          2  ...  2002  50900.00\n",
       "5              5          2  ...  2003  35230.00\n",
       "...          ...        ...  ...   ...       ...\n",
       "6817        6817        249  ...  2006     48.50\n",
       "6818        6818        249  ...  2009     56.25\n",
       "6819        6819        249  ...  2010      1.48\n",
       "6820        6820        249  ...  2009      8.00\n",
       "6826        6826        249  ...  2009      0.96\n",
       "\n",
       "[7747 rows x 7 columns]"
      ]
     },
     "execution_count": 170,
     "metadata": {
      "tags": []
     },
     "output_type": "execute_result"
    }
   ],
   "source": [
    "def set_year(df, last_year):\n",
    "  for year in df['Year']:\n",
    "    if year > last_year:\n",
    "      df = df[~df['Year'].isin([year])]\n",
    "  return df\n",
    "\n",
    "set_year(df, 2015)"
   ]
  },
  {
   "cell_type": "code",
   "execution_count": null,
   "metadata": {
    "colab": {
     "base_uri": "https://localhost:8080/"
    },
    "id": "3arwCLyDouPS",
    "outputId": "c6e40f98-a03d-4a92-803a-b0b117c8bef1"
   },
   "outputs": [],
   "source": [
    "#all distinct items and countries\n",
    "items = [item for item in df.drop_duplicates(subset=['Item'])['Item']]\n",
    "countries = [country for country in df.drop_duplicates(subset=['Area'])['Area']]\n",
    "print(items)\n",
    "print(countries)"
   ]
  },
  {
   "cell_type": "code",
   "execution_count": null,
   "metadata": {
    "colab": {
     "base_uri": "https://localhost:8080/"
    },
    "id": "qx1j6vYVV7lH",
    "outputId": "55644dd8-3682-4dcf-a87f-2fec2efaf8d5"
   },
   "outputs": [
    {
     "name": "stdout",
     "output_type": "stream",
     "text": [
      "Urea 1013982686.07\n",
      "Potassium chloride (muriate of potash) (MOP) 249266572.05\n",
      "NPK fertilizers 177852456.77999997\n",
      "Phosphate rock 171310052.56\n",
      "Diammonium phosphate (DAP) 164307468.10999998\n",
      "Ammonia, anhydrous 162747072.61\n",
      "Ammonium nitrate (AN) 131158423.13\n",
      "Ammonium sulphate 122536795.08999999\n",
      "Other NP compounds 95302979.58000001\n",
      "Superphosphates above 35% 59568649.8\n",
      "Superphosphates, other 41218656.0\n",
      "Monoammonium phosphate (MAP) 40593781.529999994\n",
      "Urea and ammonium nitrate solutions (UAN) 26248648.7\n",
      "Calcium ammonium nitrate (CAN) and other mixtures with calcium carbonate 24454647.060000002\n",
      "Other nitrogenous fertilizers, n.e.c. 17388906.22\n",
      "Fertilizers n.e.c. 9888023.2\n",
      "Other potassic fertilizers, n.e.c. 7975366.630000001\n",
      "Potassium nitrate 5733327.44\n",
      "Potassium sulphate (sulphate of potash) (SOP) 5435555.68\n",
      "Other phosphatic fertilizers, n.e.c. 4146970.09\n",
      "PK compounds 805353.62\n",
      "Sodium nitrate 498442.08\n",
      "Other NK compounds 49802.0\n"
     ]
    }
   ],
   "source": [
    "total_values = dict()\n",
    "year = 2015\n",
    "df = set_year(df, 2015)\n",
    "for item in items:\n",
    "  total_values.update({item: df['Value'][df['Item'] == item].sum()})\n",
    "items_sorted_by_production_and_export =  {k: v for k, v in sorted(total_values.items(), key=lambda item: item[1], reverse=True)}\n",
    "for item, total_value in items_sorted_by_production_and_export.items():\n",
    "  print(item, total_value)"
   ]
  },
  {
   "cell_type": "code",
   "execution_count": null,
   "metadata": {
    "id": "cUfxU-PzhuGM"
   },
   "outputs": [],
   "source": [
    "#finding neighbors for each country \"from neighboring_countries_df\"\n",
    "neighborhood = neighboring_countries_df.groupby(['country_name'], as_index = False).agg({'neighbor_name': '-'.join})\n",
    "neighborhood = neighborhood.set_index('country_name').T.to_dict('list')\n",
    "for country, neighbors in neighborhood.copy().items():\n",
    "  neighborhood[country] = (neighborhood[country])[0].split('-')"
   ]
  },
  {
   "cell_type": "code",
   "execution_count": null,
   "metadata": {
    "id": "3TEzXB8OtFMb"
   },
   "outputs": [],
   "source": [
    "#correct countries and neighbors names and make them like country names in df\n",
    "def name_converter(country_name_to_convert):\n",
    "  matchings = [country_name for country_name in countries if country_name_to_convert in country_name]\n",
    "  if matchings:\n",
    "    return matchings\n",
    "\n",
    "misspells = {'Vietnam': 'Viet Nam', 'South Korea':'Republic of Korea', 'North Korea' : 'Republic of Korea'}\n",
    "\n",
    "converted_neighborhood_names = []\n",
    "for country, neighbors in neighborhood.items():\n",
    "  for neighbor in neighbors:\n",
    "    if neighbor in misspells:\n",
    "      neighbors[neighbors.index(neighbor)] = misspells[neighbor]\n",
    "  if country in misspells:\n",
    "    country = misspells[country]\n",
    "  if name_converter(country):\n",
    "    country = name_converter(country)\n",
    "    neighbors = [name_converter(country_name) for country_name in neighbors]\n",
    "    converted_neighborhood_names.append([country, neighbors])\n",
    "\n",
    "country_neighbors = dict()\n",
    "\n",
    "for country in converted_neighborhood_names:\n",
    "  #remove None values\n",
    "  country[1] = [i for i in country[1] if i]\n",
    "  #flatten\n",
    "  country[1] = reduce(lambda z, y :z + y, country[1])\n",
    "\n",
    "  country_neighbors.update({country[0][0]: country[1]})"
   ]
  },
  {
   "cell_type": "code",
   "execution_count": null,
   "metadata": {
    "colab": {
     "base_uri": "https://localhost:8080/"
    },
    "id": "n9SVsLwxtOws",
    "outputId": "921ca34d-bba3-4384-bb5d-fb0820c133fc"
   },
   "outputs": [
    {
     "name": "stdout",
     "output_type": "stream",
     "text": [
      "{'Urea': 1520974029.105, 'Potassium chloride (muriate of potash) (MOP)': 373899858.07500005, 'NPK fertilizers': 266778685.16999996, 'Phosphate rock': 256965078.84, 'Diammonium phosphate (DAP)': 246461202.16499996, 'Ammonia, anhydrous': 244120608.91500002, 'Ammonium nitrate (AN)': 196737634.695, 'Ammonium sulphate': 183805192.635, 'Other NP compounds': 142954469.37, 'Superphosphates above 35%': 89352974.69999999, 'Superphosphates, other': 61827984.0, 'Monoammonium phosphate (MAP)': 60890672.29499999, 'Urea and ammonium nitrate solutions (UAN)': 39372973.05, 'Calcium ammonium nitrate (CAN) and other mixtures with calcium carbonate': 36681970.59, 'Other nitrogenous fertilizers, n.e.c.': 26083359.33, 'Fertilizers n.e.c.': 14832034.799999999, 'Other potassic fertilizers, n.e.c.': 11963049.945, 'Potassium nitrate': 8599991.16, 'Potassium sulphate (sulphate of potash) (SOP)': 8153333.52, 'Other phosphatic fertilizers, n.e.c.': 6220455.135, 'PK compounds': 1208030.43, 'Sodium nitrate': 747663.12, 'Other NK compounds': 74703.0}\n"
     ]
    }
   ],
   "source": [
    "def find_neighbors(country):\n",
    "  if country in country_neighbors:\n",
    "    return country_neighbors[country]\n",
    "  return country\n",
    "\n",
    "\n",
    "#check for an item in a particular country\n",
    "def contain_item(country, item):\n",
    "  if len(df.loc[(df['Area'] == country) & (df['Item'] == item)]):\n",
    "    return True\n",
    "\n",
    "\n",
    "def neighbor_containing_item(country, item):\n",
    "  for neighbor in find_neighbors(country):\n",
    "    if contain_item(neighbor, item):\n",
    "      return True\n",
    "\n",
    "\n",
    "def best_items_for_country(country):\n",
    "  best_items = items_sorted_by_production_and_export.copy()\n",
    "  for item, value in best_items.copy().items():\n",
    "    if neighbor_containing_item(country, item):\n",
    "      value_to_increase = best_items[item] * 1.5\n",
    "      best_items[item] = value_to_increase\n",
    "  return {k: v for k, v in sorted(best_items.items(), key=lambda item: item[1], reverse=True)}\n",
    "\n",
    "print(best_items_for_country('Afghanistan'))"
   ]
  },
  {
   "cell_type": "markdown",
   "metadata": {
    "id": "kRZarfehA6d3"
   },
   "source": [
    "**GA Part**"
   ]
  },
  {
   "cell_type": "markdown",
   "metadata": {
    "id": "Bhw4i-SlFIfk"
   },
   "source": [
    "**Creating initial population**"
   ]
  },
  {
   "cell_type": "code",
   "execution_count": null,
   "metadata": {
    "colab": {
     "base_uri": "https://localhost:8080/"
    },
    "id": "n9cbrZfdBCLJ",
    "outputId": "f66a8005-8955-47d8-800e-f151b95b08c4"
   },
   "outputs": [],
   "source": [
    "def make_first_population(population_size):\n",
    "  initial_population = list()\n",
    "  for i in range(population_size):\n",
    "    initial_population.append(list(np.random.permutation(items)))\n",
    "  return initial_population\n",
    "for i, j in enumerate(make_first_population(65)):\n",
    "  print(i, j)"
   ]
  },
  {
   "cell_type": "markdown",
   "metadata": {
    "id": "u4Y38NXcGpth"
   },
   "source": [
    "Fitness Function"
   ]
  },
  {
   "cell_type": "code",
   "execution_count": null,
   "metadata": {
    "colab": {
     "base_uri": "https://localhost:8080/"
    },
    "id": "_HE38QP_GpE2",
    "outputId": "0fa8375a-cb10-4333-8f9b-e25234edabd2"
   },
   "outputs": [],
   "source": [
    "def fitness(chromosome, country):\n",
    "  return len([index for index, (e1, e2) in enumerate(zip(chromosome, best_items_for_country(country))) if e1 == e2]) \n",
    "\n",
    "def has_goal(generation, country):\n",
    "  for chromosome in generation:\n",
    "    if fitness(chromosome, country) == len(chromosome):\n",
    "      return True\n",
    "  return False\n",
    "\n",
    "def sort_by_fitness(population, country):\n",
    "  fitnesses = dict()\n",
    "  for chromosome in population:\n",
    "    fitnesses.update({tuple(chromosome) : fitness(chromosome, country)})\n",
    "  sorted_chromosomes = [list(chromosome) for chromosome in list({k: v for k, v in sorted(fitnesses.items(), key=lambda item: item[1], reverse = True)}.keys())]\n",
    "  sorted_fitnesses = {k: v for k, v in sorted(fitnesses.items(), key=lambda item: item[1], reverse = True)}.values()\n",
    "  return(sorted_chromosomes, sorted_fitnesses)\n",
    "\n",
    "\n",
    "initial_population = make_first_population(65)\n",
    "sort_by_fitness(initial_population, 'Turkey')\n",
    "\n",
    "def best_parents_in_population(population, n, country):\n",
    "  return ((sort_by_fitness(population, country))[0])[:n]\n",
    "\n",
    "print(best_parents_in_population(initial_population, 30, 'Turkey'))"
   ]
  },
  {
   "cell_type": "markdown",
   "metadata": {
    "id": "x8uq0urRUcJJ"
   },
   "source": [
    "Mutation"
   ]
  },
  {
   "cell_type": "code",
   "execution_count": null,
   "metadata": {
    "colab": {
     "base_uri": "https://localhost:8080/"
    },
    "id": "uLiL8Jp6Ueon",
    "outputId": "270367ff-adee-4d76-e8c8-5ae887eeff84"
   },
   "outputs": [
    {
     "name": "stdout",
     "output_type": "stream",
     "text": [
      "['1', '2', '3', '5', '4']\n"
     ]
    }
   ],
   "source": [
    "def swap_position(array):\n",
    "  random_index = random.randint(0,len(array)-1)\n",
    "  if random_index == len(array)-1:\n",
    "    array[-1], array[-2] = array[-2], array[-1]\n",
    "  elif random_index == 0:\n",
    "    array[0], array[1] = array[1], array[0]\n",
    "  else:\n",
    "    array[random_index], array[random_index-1] = array[random_index-1], array[random_index]\n",
    "  return array\n",
    "\n",
    "def mutate(chromosome):\n",
    "  chromosome = swap_position(chromosome)\n",
    "  return chromosome\n",
    "\n",
    "a = ['1', '2', '3', '4', '5']\n",
    "print(mutate(a))"
   ]
  },
  {
   "cell_type": "markdown",
   "metadata": {
    "id": "IKloSY01c9bR"
   },
   "source": [
    "Crossover"
   ]
  },
  {
   "cell_type": "code",
   "execution_count": null,
   "metadata": {
    "colab": {
     "base_uri": "https://localhost:8080/"
    },
    "id": "huNaiKd0YVCS",
    "outputId": "ddf0d963-6c51-49be-f7bc-639c533c7e42"
   },
   "outputs": [
    {
     "name": "stdout",
     "output_type": "stream",
     "text": [
      "dad:['p', 'k', 'b', 'c', 'e', 'l', 'g', 'o', 'j', 'f', 'm', 'd', 'a', 'n', 'i', 'h']\n",
      "mum:['a', 'j', 'c', 'p', 'o', 'm', 'f', 'e', 'd', 'i', 'b', 'n', 'g', 'h', 'k', 'l']\n",
      "child:['p', 'k', 'b', 'c', 'e', 'a', 'l', 'j', 'g', 'o', 'f', 'm', 'd', 'i', 'n', 'h']\n"
     ]
    }
   ],
   "source": [
    "def place_a_gene(chromosome, child):\n",
    "    for child_gene in child:\n",
    "        for gene in chromosome:\n",
    "            if child_gene == 'empty' and gene not in child:\n",
    "                child[child.index(child_gene)] = gene\n",
    "                return child\n",
    "\n",
    "def crossover(parent1, parent2):\n",
    "    point = int(len(parent1) / 4)\n",
    "    child = ['empty' for i in range(len(parent1) - point)]\n",
    "    child = parent1[:point] + child\n",
    "    for chid_gene in child:\n",
    "        child_index_to_fill = child.index(chid_gene)\n",
    "        if child_index_to_fill % 2 == 0:\n",
    "            place_a_gene(parent1, child)\n",
    "        else:\n",
    "            place_a_gene(parent2, child)\n",
    "    return child\n",
    "\n",
    "def crossover_in_population(best_parents, number_of_childs):\n",
    "  new_generation = []\n",
    "  for i in range(number_of_childs):\n",
    "    rnd1 = random.randint(0, len(best_parents) - 1)\n",
    "    rnd2 = random.randint(0, len(best_parents) - 1)\n",
    "    parent1 = best_parents[rnd1]\n",
    "    parent2 = best_parents[rnd2]\n",
    "    mutate(chromosome)\n",
    "    if random.randint(1, 5) == 1:\n",
    "      new_generation.append(mutate(crossover(parent1, parent2)))\n",
    "    else:\n",
    "      new_generation.append(crossover(parent1, parent2))\n",
    "  return new_generation\n",
    "\n",
    "a = ['a', 'b', 'c', 'd', 'e', 'f', 'g', 'h', 'i', 'j', 'k', 'l', 'm', 'n', 'o', 'p']\n",
    "t = list(np.random.permutation(a))\n",
    "s = list(np.random.permutation(a))\n",
    "print(f'dad:{t}')\n",
    "print(f'mum:{s}')\n",
    "print(f'child:{crossover(t, s)}')\n"
   ]
  },
  {
   "cell_type": "code",
   "execution_count": null,
   "metadata": {
    "id": "EmjQ5TBfl5Cs"
   },
   "outputs": [],
   "source": [
    "def GA(country):\n",
    "  crossover_probability = 0.80\n",
    "  initial_population_size = 100\n",
    "  selected_parents_for_crossover = 30\n",
    "  child_in_gen = 50\n",
    "  num_to_crossover = crossover_probability * initial_population_size\n",
    "  num_to_next_gen = initial_population_size - num_to_crossover\n",
    "  population = make_first_population(initial_population_size)\n",
    "  generation_number = 1\n",
    "  while(not has_goal(population, country)):\n",
    "    best_parents = best_parents_in_population(population, selected_parents_for_crossover, country)\n",
    "    population = crossover_in_population(best_parents, child_in_gen)\n",
    "    population = population + best_parents[0:int(num_to_next_gen)]\n",
    "    print(f'generation number = {generation_number}\\nbest fitness in this generation {list(sort_by_fitness(population, country)[1])[0]}')\n",
    "    print(population)\n",
    "    generation_number += 1\n",
    "\n",
    "  print(f'best items for {country} in {year}: {sort_by_fitness(population, country)[0]}')\n",
    "\n",
    "\n",
    "GA('Afghanistan')"
   ]
  },
  {
   "cell_type": "code",
   "execution_count": null,
   "metadata": {
    "id": "TOoXNzsbRmlA"
   },
   "outputs": [],
   "source": []
  },
  {
   "cell_type": "code",
   "execution_count": null,
   "metadata": {
    "id": "18ySo0LFh0i_"
   },
   "outputs": [],
   "source": []
  }
 ],
 "metadata": {
  "colab": {
   "collapsed_sections": [],
   "name": "project.ipynb",
   "provenance": []
  },
  "kernelspec": {
   "display_name": "Python 3",
   "language": "python",
   "name": "python3"
  },
  "language_info": {
   "codemirror_mode": {
    "name": "ipython",
    "version": 3
   },
   "file_extension": ".py",
   "mimetype": "text/x-python",
   "name": "python",
   "nbconvert_exporter": "python",
   "pygments_lexer": "ipython3",
   "version": "3.8.3"
  }
 },
 "nbformat": 4,
 "nbformat_minor": 1
}
