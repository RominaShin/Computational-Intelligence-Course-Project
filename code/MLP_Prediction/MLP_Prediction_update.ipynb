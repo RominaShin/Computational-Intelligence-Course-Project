{
 "cells": [
  {
   "cell_type": "code",
   "execution_count": 188,
   "metadata": {
    "collapsed": true
   },
   "outputs": [],
   "source": [
    "import numpy as np\n",
    "import pandas as pd\n",
    "import matplotlib.pyplot as plt\n",
    "import seaborn as sns\n",
    "import tensorflow as tf\n",
    "from sklearn.model_selection import train_test_split\n",
    "from tensorflow.keras.models import Sequential,Model\n",
    "from sklearn.metrics import mean_squared_error\n",
    "from tensorflow.keras.layers import Dense,Activation,Input,Flatten,Conv2D,MaxPooling2D,concatenate,LSTM\n",
    "from tensorflow.keras.activations import relu\n",
    "from tensorflow.keras.utils import plot_model\n",
    "import math\n",
    "from tensorflow.keras.preprocessing.sequence import TimeseriesGenerator\n"
   ]
  },
  {
   "cell_type": "code",
   "execution_count": 186,
   "outputs": [],
   "source": [
    "import os\n",
    "os.chdir('c:\\\\Users\\\\ASUS\\\\Projects')\n",
    "df = pd.read_csv('CI\\\\Asia_ImportQuantity.csv',encoding='latin-1')\n",
    "Asia_importQ_Urea = pd.read_csv('Processed_data.csv',index_col='Year')"
   ],
   "metadata": {
    "collapsed": false,
    "pycharm": {
     "name": "#%%\n"
    }
   }
  },
  {
   "cell_type": "code",
   "execution_count": null,
   "outputs": [],
   "source": [
    "df = df.set_index('Year')\n",
    "#df['Item'].value_counts()\n",
    "df = df[df['Item']=='Urea']\n",
    "df = df.drop('Item',axis =1)"
   ],
   "metadata": {
    "collapsed": false,
    "pycharm": {
     "name": "#%%\n"
    }
   }
  },
  {
   "cell_type": "markdown",
   "source": [
    "<b>First we predict with MLP for Turkey and then use it for other countries</b>"
   ],
   "metadata": {
    "collapsed": false,
    "pycharm": {
     "name": "#%% md\n"
    }
   }
  },
  {
   "cell_type": "code",
   "execution_count": 44,
   "outputs": [
    {
     "data": {
      "text/plain": "           Value\nYear            \n2002   648210.55\n2003   696935.73\n2004   942173.25\n2005   808284.41\n2006  1104413.38\n2007  1291451.42\n2008  1210530.11\n2009  1411028.57\n2010  1285766.23\n2011   935754.64\n2012  1178938.25\n2013  1540904.99\n2014  1641338.07\n2015  1569831.74\n2016  2261393.23\n2017  2810930.18",
      "text/html": "<div>\n<style scoped>\n    .dataframe tbody tr th:only-of-type {\n        vertical-align: middle;\n    }\n\n    .dataframe tbody tr th {\n        vertical-align: top;\n    }\n\n    .dataframe thead th {\n        text-align: right;\n    }\n</style>\n<table border=\"1\" class=\"dataframe\">\n  <thead>\n    <tr style=\"text-align: right;\">\n      <th></th>\n      <th>Value</th>\n    </tr>\n    <tr>\n      <th>Year</th>\n      <th></th>\n    </tr>\n  </thead>\n  <tbody>\n    <tr>\n      <th>2002</th>\n      <td>648210.55</td>\n    </tr>\n    <tr>\n      <th>2003</th>\n      <td>696935.73</td>\n    </tr>\n    <tr>\n      <th>2004</th>\n      <td>942173.25</td>\n    </tr>\n    <tr>\n      <th>2005</th>\n      <td>808284.41</td>\n    </tr>\n    <tr>\n      <th>2006</th>\n      <td>1104413.38</td>\n    </tr>\n    <tr>\n      <th>2007</th>\n      <td>1291451.42</td>\n    </tr>\n    <tr>\n      <th>2008</th>\n      <td>1210530.11</td>\n    </tr>\n    <tr>\n      <th>2009</th>\n      <td>1411028.57</td>\n    </tr>\n    <tr>\n      <th>2010</th>\n      <td>1285766.23</td>\n    </tr>\n    <tr>\n      <th>2011</th>\n      <td>935754.64</td>\n    </tr>\n    <tr>\n      <th>2012</th>\n      <td>1178938.25</td>\n    </tr>\n    <tr>\n      <th>2013</th>\n      <td>1540904.99</td>\n    </tr>\n    <tr>\n      <th>2014</th>\n      <td>1641338.07</td>\n    </tr>\n    <tr>\n      <th>2015</th>\n      <td>1569831.74</td>\n    </tr>\n    <tr>\n      <th>2016</th>\n      <td>2261393.23</td>\n    </tr>\n    <tr>\n      <th>2017</th>\n      <td>2810930.18</td>\n    </tr>\n  </tbody>\n</table>\n</div>"
     },
     "execution_count": 44,
     "metadata": {},
     "output_type": "execute_result"
    }
   ],
   "source": [
    "X = df[(df['Area']=='Turkey')]\n",
    "X = X.drop(['Area'],axis=1)\n",
    "X"
   ],
   "metadata": {
    "collapsed": false,
    "pycharm": {
     "name": "#%%\n"
    }
   }
  },
  {
   "cell_type": "code",
   "execution_count": 45,
   "outputs": [
    {
     "data": {
      "text/plain": "<matplotlib.axes._subplots.AxesSubplot at 0x22f66f71700>"
     },
     "execution_count": 45,
     "metadata": {},
     "output_type": "execute_result"
    },
    {
     "data": {
      "text/plain": "<Figure size 432x288 with 1 Axes>",
      "image/png": "[encoded data removed]"
     },
     "metadata": {
      "needs_background": "light"
     },
     "output_type": "display_data"
    }
   ],
   "source": [
    "X.plot()"
   ],
   "metadata": {
    "collapsed": false,
    "pycharm": {
     "name": "#%%\n"
    }
   }
  },
  {
   "cell_type": "markdown",
   "source": [
    "<b>Getting Data Ready for Prediction</b>"
   ],
   "metadata": {
    "collapsed": false,
    "pycharm": {
     "name": "#%% md\n"
    }
   }
  },
  {
   "cell_type": "code",
   "execution_count": 8,
   "outputs": [
    {
     "data": {
      "text/plain": "16"
     },
     "execution_count": 8,
     "metadata": {},
     "output_type": "execute_result"
    }
   ],
   "source": [
    "len(X)"
   ],
   "metadata": {
    "collapsed": false,
    "pycharm": {
     "name": "#%%\n"
    }
   }
  },
  {
   "cell_type": "code",
   "execution_count": 258,
   "outputs": [],
   "source": [
    "x_train = X.iloc[:10]\n",
    "X_test = X.iloc[10:]"
   ],
   "metadata": {
    "collapsed": false,
    "pycharm": {
     "name": "#%%\n"
    }
   }
  },
  {
   "cell_type": "code",
   "execution_count": 259,
   "outputs": [
    {
     "data": {
      "text/plain": "MinMaxScaler()"
     },
     "execution_count": 259,
     "metadata": {},
     "output_type": "execute_result"
    }
   ],
   "source": [
    "from sklearn.preprocessing import MinMaxScaler\n",
    "scaler = MinMaxScaler()\n",
    "scaler.fit(x_train)"
   ],
   "metadata": {
    "collapsed": false,
    "pycharm": {
     "name": "#%%\n"
    }
   }
  },
  {
   "cell_type": "code",
   "execution_count": 260,
   "outputs": [],
   "source": [
    "x_train_scaled = scaler.transform(x_train)\n",
    "x_test_scaled = scaler.transform(X_test)"
   ],
   "metadata": {
    "collapsed": false,
    "pycharm": {
     "name": "#%%\n"
    }
   }
  },
  {
   "cell_type": "code",
   "execution_count": 261,
   "outputs": [],
   "source": [
    "def convertToDataset(data, step):\n",
    "    #data = np.append(data,np.repeat(data[-1,],step))\n",
    "    X, Y =[], []\n",
    "    for i in range(len(data)-step):\n",
    "        d=i+step\n",
    "        X.append(data[i:d,])\n",
    "        Y.append(data[d,])\n",
    "    return np.array(X), np.array(Y)\n",
    "\n",
    "trainX,trainY =convertToDataset(x_train_scaled,2)\n",
    "testX,testY =convertToDataset(x_test_scaled,2)\n",
    "\n",
    "trainX = np.reshape(trainX, (trainX.shape[0],  trainX.shape[1], 1))\n",
    "testX = np.reshape(testX, (testX.shape[0],testX.shape[1], 1))"
   ],
   "metadata": {
    "collapsed": false,
    "pycharm": {
     "name": "#%%\n"
    }
   }
  },
  {
   "cell_type": "markdown",
   "source": [
    "<b>Define Model</b>"
   ],
   "metadata": {
    "collapsed": false,
    "pycharm": {
     "name": "#%% md\n"
    }
   }
  },
  {
   "cell_type": "code",
   "execution_count": 262,
   "outputs": [],
   "source": [
    "model = Sequential()\n",
    "model.add(Dense(units=10,activation='relu'))\n",
    "model.add(Dense(20, activation='relu'))\n",
    "model.add(Dense(5, activation='relu'))\n",
    "model.add(Dense(1))\n",
    "model.compile(optimizer='adam', loss='mse')\n"
   ],
   "metadata": {
    "collapsed": false,
    "pycharm": {
     "name": "#%%\n"
    }
   }
  },
  {
   "cell_type": "code",
   "execution_count": 263,
   "outputs": [
    {
     "name": "stdout",
     "output_type": "stream",
     "text": [
      "Epoch 1/50\n",
      "8/8 - 0s - loss: 0.3285\n",
      "Epoch 2/50\n",
      "8/8 - 0s - loss: 0.2598\n",
      "Epoch 3/50\n",
      "8/8 - 0s - loss: 0.2024\n",
      "Epoch 4/50\n",
      "8/8 - 0s - loss: 0.1531\n",
      "Epoch 5/50\n",
      "8/8 - 0s - loss: 0.1190\n",
      "Epoch 6/50\n",
      "8/8 - 0s - loss: 0.0913\n",
      "Epoch 7/50\n",
      "8/8 - 0s - loss: 0.0794\n",
      "Epoch 8/50\n",
      "8/8 - 0s - loss: 0.0656\n",
      "Epoch 9/50\n",
      "8/8 - 0s - loss: 0.0621\n",
      "Epoch 10/50\n",
      "8/8 - 0s - loss: 0.0588\n",
      "Epoch 11/50\n",
      "8/8 - 0s - loss: 0.0593\n",
      "Epoch 12/50\n",
      "8/8 - 0s - loss: 0.0579\n",
      "Epoch 13/50\n",
      "8/8 - 0s - loss: 0.0570\n",
      "Epoch 14/50\n",
      "8/8 - 0s - loss: 0.0580\n",
      "Epoch 15/50\n",
      "8/8 - 0s - loss: 0.0579\n",
      "Epoch 16/50\n",
      "8/8 - 0s - loss: 0.0563\n",
      "Epoch 17/50\n",
      "8/8 - 0s - loss: 0.0564\n",
      "Epoch 18/50\n",
      "8/8 - 0s - loss: 0.0559\n",
      "Epoch 19/50\n",
      "8/8 - 0s - loss: 0.0562\n",
      "Epoch 20/50\n",
      "8/8 - 0s - loss: 0.0556\n",
      "Epoch 21/50\n",
      "8/8 - 0s - loss: 0.0552\n",
      "Epoch 22/50\n",
      "8/8 - 0s - loss: 0.0558\n",
      "Epoch 23/50\n",
      "8/8 - 0s - loss: 0.0547\n",
      "Epoch 24/50\n",
      "8/8 - 0s - loss: 0.0546\n",
      "Epoch 25/50\n",
      "8/8 - 0s - loss: 0.0547\n",
      "Epoch 26/50\n",
      "8/8 - 0s - loss: 0.0544\n",
      "Epoch 27/50\n",
      "8/8 - 0s - loss: 0.0544\n",
      "Epoch 28/50\n",
      "8/8 - 0s - loss: 0.0541\n",
      "Epoch 29/50\n",
      "8/8 - 0s - loss: 0.0541\n",
      "Epoch 30/50\n",
      "8/8 - 0s - loss: 0.0541\n",
      "Epoch 31/50\n",
      "8/8 - 0s - loss: 0.0539\n",
      "Epoch 32/50\n",
      "8/8 - 0s - loss: 0.0537\n",
      "Epoch 33/50\n",
      "8/8 - 0s - loss: 0.0537\n",
      "Epoch 34/50\n",
      "8/8 - 0s - loss: 0.0547\n",
      "Epoch 35/50\n",
      "8/8 - 0s - loss: 0.0534\n",
      "Epoch 36/50\n",
      "8/8 - 0s - loss: 0.0536\n",
      "Epoch 37/50\n",
      "8/8 - 0s - loss: 0.0534\n",
      "Epoch 38/50\n",
      "8/8 - 0s - loss: 0.0534\n",
      "Epoch 39/50\n",
      "8/8 - 0s - loss: 0.0531\n",
      "Epoch 40/50\n",
      "8/8 - 0s - loss: 0.0532\n",
      "Epoch 41/50\n",
      "8/8 - 0s - loss: 0.0532\n",
      "Epoch 42/50\n",
      "8/8 - 0s - loss: 0.0529\n",
      "Epoch 43/50\n",
      "8/8 - 0s - loss: 0.0533\n",
      "Epoch 44/50\n",
      "8/8 - 0s - loss: 0.0527\n",
      "Epoch 45/50\n",
      "8/8 - 0s - loss: 0.0536\n",
      "Epoch 46/50\n",
      "8/8 - 0s - loss: 0.0531\n",
      "Epoch 47/50\n",
      "8/8 - 0s - loss: 0.0531\n",
      "Epoch 48/50\n",
      "8/8 - 0s - loss: 0.0525\n",
      "Epoch 49/50\n",
      "8/8 - 0s - loss: 0.0535\n",
      "Epoch 50/50\n",
      "8/8 - 0s - loss: 0.0535\n"
     ]
    }
   ],
   "source": [
    "#model.fit_generator(generator,epochs=30)\n",
    "history = model.fit(trainX,trainY, epochs=50, batch_size=1, verbose=2)"
   ],
   "metadata": {
    "collapsed": false,
    "pycharm": {
     "name": "#%%\n"
    }
   }
  },
  {
   "cell_type": "code",
   "execution_count": 264,
   "outputs": [
    {
     "data": {
      "text/plain": "[<matplotlib.lines.Line2D at 0x22f01066130>]"
     },
     "execution_count": 264,
     "metadata": {},
     "output_type": "execute_result"
    },
    {
     "data": {
      "text/plain": "<Figure size 432x288 with 1 Axes>",
      "image/png": "[encoded data removed]"
     },
     "metadata": {
      "needs_background": "light"
     },
     "output_type": "display_data"
    }
   ],
   "source": [
    "loss_per_epoch = model.history.history['loss']\n",
    "plt.plot(range(len(loss_per_epoch)),loss_per_epoch)"
   ],
   "metadata": {
    "collapsed": false,
    "pycharm": {
     "name": "#%%\n"
    }
   }
  },
  {
   "cell_type": "code",
   "execution_count": 266,
   "outputs": [],
   "source": [
    "train_Predictions = model.predict(trainX)\n",
    "test_predictions= model.predict(testX)\n",
    "#predicted=np.concatenate((train_Predictions,test_predictions),axis=0)"
   ],
   "metadata": {
    "collapsed": false,
    "pycharm": {
     "name": "#%%\n"
    }
   }
  },
  {
   "cell_type": "code",
   "execution_count": 267,
   "outputs": [],
   "source": [
    "def convertToOrig(data):\n",
    "    X=[]\n",
    "    for i in range(len(data)):\n",
    "        X.append(data[i][0])\n",
    "        if(i==len(data)-1):X.append(data[i][1])\n",
    "\n",
    "    return np.array(X)"
   ],
   "metadata": {
    "collapsed": false,
    "pycharm": {
     "name": "#%%\n"
    }
   }
  },
  {
   "cell_type": "code",
   "execution_count": 269,
   "outputs": [],
   "source": [
    "true_predictions = scaler.inverse_transform(convertToOrig(test_predictions))"
   ],
   "metadata": {
    "collapsed": false,
    "pycharm": {
     "name": "#%%\n"
    }
   }
  },
  {
   "cell_type": "code",
   "execution_count": 276,
   "outputs": [
    {
     "name": "stderr",
     "output_type": "stream",
     "text": [
      "<ipython-input-276-6e3d3774b4eb>:2: SettingWithCopyWarning: \n",
      "A value is trying to be set on a copy of a slice from a DataFrame.\n",
      "Try using .loc[row_indexer,col_indexer] = value instead\n",
      "\n",
      "See the caveats in the documentation: https://pandas.pydata.org/pandas-docs/stable/user_guide/indexing.html#returning-a-view-versus-a-copy\n",
      "  new_test['pred'] = true_predictions\n"
     ]
    },
    {
     "data": {
      "text/plain": "<matplotlib.axes._subplots.AxesSubplot at 0x22f03443820>"
     },
     "execution_count": 276,
     "metadata": {},
     "output_type": "execute_result"
    },
    {
     "data": {
      "text/plain": "<Figure size 432x288 with 1 Axes>",
      "image/png": "[encoded data removed]"
     },
     "metadata": {
      "needs_background": "light"
     },
     "output_type": "display_data"
    }
   ],
   "source": [
    "new_test = X_test[:-1]\n",
    "new_test['pred'] = true_predictions\n",
    "new_test.plot()"
   ],
   "metadata": {
    "collapsed": false,
    "pycharm": {
     "name": "#%%\n"
    }
   }
  },
  {
   "cell_type": "markdown",
   "source": [
    "<b> Evaluation </b>"
   ],
   "metadata": {
    "collapsed": false
   }
  },
  {
   "cell_type": "code",
   "execution_count": 277,
   "outputs": [
    {
     "name": "stdout",
     "output_type": "stream",
     "text": [
      "1/1 [==============================] - 0s 31ms/step - loss: 0.0522\b\b\b\b\b\b\b\b\b\b\b\b\b\b\b\b\b\b\b\b\b\b\b\b\b\b\b\b\b\b\b\b\b\b\b\b\b\b\b\b\b\b\b\b\b\b\b\b\b\b\b\b\b\b\b\b\n",
      "1/1 [==============================] - 0s 27ms/step - loss: 1.2917\b\b\b\b\b\b\b\b\b\b\b\b\b\b\b\b\b\b\b\b\b\b\b\b\b\b\b\b\b\b\b\b\b\b\b\b\b\b\b\b\b\b\b\b\b\b\b\b\b\b\b\b\b\b\b\b\n",
      "Test Score is : 1.2917375564575195 \n",
      " Train Score is : 0.052195362746715546\n"
     ]
    }
   ],
   "source": [
    "train_score = model.evaluate(trainX,trainY)\n",
    "test_score = model.evaluate(testX,testY)\n",
    "print('Test Score is :', test_score,'\\n Train Score is :',train_score)"
   ],
   "metadata": {
    "collapsed": false,
    "pycharm": {
     "name": "#%%\n"
    }
   }
  },
  {
   "cell_type": "code",
   "execution_count": 278,
   "outputs": [
    {
     "data": {
      "text/plain": "373485.61616560514"
     },
     "execution_count": 278,
     "metadata": {},
     "output_type": "execute_result"
    }
   ],
   "source": [
    "from sklearn.metrics import mean_squared_error\n",
    "np.sqrt(mean_squared_error(new_test['Value'],new_test['pred']))"
   ],
   "metadata": {
    "collapsed": false,
    "pycharm": {
     "name": "#%%\n"
    }
   }
  },
  {
   "cell_type": "markdown",
   "source": [
    "<b>Repeat Prediction for All Countries</b>"
   ],
   "metadata": {
    "collapsed": false,
    "pycharm": {
     "name": "#%% md\n"
    }
   }
  },
  {
   "cell_type": "code",
   "execution_count": 326,
   "outputs": [],
   "source": [
    "country_dict = {}\n",
    "i = 0\n",
    "for (columnName,columnData) in Asia_importQ_Urea.iteritems():\n",
    "    country_dict[columnName] = i\n",
    "    i = i+1"
   ],
   "metadata": {
    "collapsed": false,
    "pycharm": {
     "name": "#%%\n"
    }
   }
  },
  {
   "cell_type": "code",
   "execution_count": 348,
   "outputs": [],
   "source": [
    "def predict_country(country_name):\n",
    "    x = np.reshape(pd.DataFrame(Asia_importQ_Urea[country_name]),(16,1))\n",
    "    xTrain = x.iloc[:10]\n",
    "    xTest = x.iloc[10:]\n",
    "    MMS = list(np.zeros(35))\n",
    "    MMS[country_dict[country_name]] = MinMaxScaler()\n",
    "    MMS[country_dict[country_name]].fit(xTrain)\n",
    "    train_scaled = MMS[country_dict[country_name]].transform(xTrain)\n",
    "    test_scaled = MMS[country_dict[country_name]].transform(xTest)\n",
    "\n",
    "    trainX,trainY =convertToDataset(train_scaled,2)\n",
    "    testX,testY =convertToDataset(test_scaled,2)\n",
    "\n",
    "    trainX = np.reshape(trainX, (trainX.shape[0],  trainX.shape[1], 1))\n",
    "    testX = np.reshape(testX, (testX.shape[0],testX.shape[1], 1))\n",
    "\n",
    "    mlp = list(np.zeros(35))\n",
    "    mlp[country_dict[country_name]] = Sequential()\n",
    "    mlp[country_dict[country_name]].add(Dense(units=10,activation='relu'))\n",
    "    mlp[country_dict[country_name]].add(Dense(20, activation='relu'))\n",
    "    mlp[country_dict[country_name]].add(Dense(5, activation='relu'))\n",
    "    mlp[country_dict[country_name]].add(Dense(1))\n",
    "    mlp[country_dict[country_name]].compile(optimizer='adam', loss='mse')\n",
    "\n",
    "    history = []\n",
    "    history.append(mlp[country_dict[country_name]].fit(trainX,trainY, epochs=50, batch_size=1, verbose=2))\n",
    "\n",
    "    test_predictions= mlp[country_dict[country_name]].predict(testX)\n",
    "\n",
    "    true_predictions = MMS[country_dict[country_name]].inverse_transform(convertToOrig(test_predictions))\n",
    "    new_test = xTest[:-1]\n",
    "    new_test['pred'] = true_predictions\n",
    "    new_test.plot()\n",
    "\n",
    "    train_score = mlp[country_dict[country_name]].evaluate(trainX,trainY)\n",
    "    test_score = mlp[country_dict[country_name]].evaluate(testX,testY)\n",
    "    print('Test Score is :', test_score,'\\n Train Score is :',train_score)\n",
    "\n",
    "    from sklearn.metrics import mean_squared_error\n",
    "    print('\\n MSE : ',np.sqrt(mean_squared_error(new_test[country_name],new_test['pred'])))"
   ],
   "metadata": {
    "collapsed": false,
    "pycharm": {
     "name": "#%%\n"
    }
   }
  },
  {
   "cell_type": "code",
   "execution_count": 351,
   "outputs": [
    {
     "name": "stdout",
     "output_type": "stream",
     "text": [
      "Epoch 1/50\n",
      "8/8 - 1s - loss: 0.3702\n",
      "Epoch 2/50\n",
      "8/8 - 0s - loss: 0.3418\n",
      "Epoch 3/50\n",
      "8/8 - 0s - loss: 0.3134\n",
      "Epoch 4/50\n",
      "8/8 - 0s - loss: 0.2789\n",
      "Epoch 5/50\n",
      "8/8 - 0s - loss: 0.2348\n",
      "Epoch 6/50\n",
      "8/8 - 0s - loss: 0.2007\n",
      "Epoch 7/50\n",
      "8/8 - 0s - loss: 0.1661\n",
      "Epoch 8/50\n",
      "8/8 - 0s - loss: 0.1398\n",
      "Epoch 9/50\n",
      "8/8 - 0s - loss: 0.1202\n",
      "Epoch 10/50\n",
      "8/8 - 0s - loss: 0.1103\n",
      "Epoch 11/50\n",
      "8/8 - 0s - loss: 0.1026\n",
      "Epoch 12/50\n",
      "8/8 - 0s - loss: 0.0975\n",
      "Epoch 13/50\n",
      "8/8 - 0s - loss: 0.0948\n",
      "Epoch 14/50\n",
      "8/8 - 0s - loss: 0.0956\n",
      "Epoch 15/50\n",
      "8/8 - 0s - loss: 0.0946\n",
      "Epoch 16/50\n",
      "8/8 - 0s - loss: 0.0962\n",
      "Epoch 17/50\n",
      "8/8 - 0s - loss: 0.0932\n",
      "Epoch 18/50\n",
      "8/8 - 0s - loss: 0.0922\n",
      "Epoch 19/50\n",
      "8/8 - 0s - loss: 0.0920\n",
      "Epoch 20/50\n",
      "8/8 - 0s - loss: 0.0910\n",
      "Epoch 21/50\n",
      "8/8 - 0s - loss: 0.0929\n",
      "Epoch 22/50\n",
      "8/8 - 0s - loss: 0.0905\n",
      "Epoch 23/50\n",
      "8/8 - 0s - loss: 0.0905\n",
      "Epoch 24/50\n",
      "8/8 - 0s - loss: 0.0882\n",
      "Epoch 25/50\n",
      "8/8 - 0s - loss: 0.0883\n",
      "Epoch 26/50\n",
      "8/8 - 0s - loss: 0.0883\n",
      "Epoch 27/50\n",
      "8/8 - 0s - loss: 0.0882\n",
      "Epoch 28/50\n",
      "8/8 - 0s - loss: 0.0880\n",
      "Epoch 29/50\n",
      "8/8 - 0s - loss: 0.0880\n",
      "Epoch 30/50\n",
      "8/8 - 0s - loss: 0.0878\n",
      "Epoch 31/50\n",
      "8/8 - 0s - loss: 0.0872\n",
      "Epoch 32/50\n",
      "8/8 - 0s - loss: 0.0880\n",
      "Epoch 33/50\n",
      "8/8 - 0s - loss: 0.0868\n",
      "Epoch 34/50\n",
      "8/8 - 0s - loss: 0.0871\n",
      "Epoch 35/50\n",
      "8/8 - 0s - loss: 0.0867\n",
      "Epoch 36/50\n",
      "8/8 - 0s - loss: 0.0864\n",
      "Epoch 37/50\n",
      "8/8 - 0s - loss: 0.0867\n",
      "Epoch 38/50\n",
      "8/8 - 0s - loss: 0.0863\n",
      "Epoch 39/50\n",
      "8/8 - 0s - loss: 0.0870\n",
      "Epoch 40/50\n",
      "8/8 - 0s - loss: 0.0865\n",
      "Epoch 41/50\n",
      "8/8 - 0s - loss: 0.0862\n",
      "Epoch 42/50\n",
      "8/8 - 0s - loss: 0.0861\n",
      "Epoch 43/50\n",
      "8/8 - 0s - loss: 0.0855\n",
      "Epoch 44/50\n",
      "8/8 - 0s - loss: 0.0861\n",
      "Epoch 45/50\n",
      "8/8 - 0s - loss: 0.0853\n",
      "Epoch 46/50\n",
      "8/8 - 0s - loss: 0.0855\n",
      "Epoch 47/50\n",
      "8/8 - 0s - loss: 0.0856\n",
      "Epoch 48/50\n",
      "8/8 - 0s - loss: 0.0854\n",
      "Epoch 49/50\n",
      "8/8 - 0s - loss: 0.0860\n",
      "Epoch 50/50\n",
      "8/8 - 0s - loss: 0.0855\n",
      "WARNING:tensorflow:10 out of the last 11 calls to <function Model.make_predict_function.<locals>.predict_function at 0x0000022F084E2160> triggered tf.function retracing. Tracing is expensive and the excessive number of tracings could be due to (1) creating @tf.function repeatedly in a loop, (2) passing tensors with different shapes, (3) passing Python objects instead of tensors. For (1), please define your @tf.function outside of the loop. For (2), @tf.function has experimental_relax_shapes=True option that relaxes argument shapes that can avoid unnecessary retracing. For (3), please refer to https://www.tensorflow.org/guide/function#controlling_retracing and https://www.tensorflow.org/api_docs/python/tf/function for  more details.\n",
      "WARNING:tensorflow:6 out of the last 19 calls to <function Model.make_test_function.<locals>.test_function at 0x0000022F06EBDEE0> triggered tf.function retracing. Tracing is expensive and the excessive number of tracings could be due to (1) creating @tf.function repeatedly in a loop, (2) passing tensors with different shapes, (3) passing Python objects instead of tensors. For (1), please define your @tf.function outside of the loop. For (2), @tf.function has experimental_relax_shapes=True option that relaxes argument shapes that can avoid unnecessary retracing. For (3), please refer to https://www.tensorflow.org/guide/function#controlling_retracing and https://www.tensorflow.org/api_docs/python/tf/function for  more details.\n",
      "1/1 [==============================] - 0s 314ms/step - loss: 0.0846\b\b\b\b\b\b\b\b\b\b\b\b\b\b\b\b\b\b\b\b\b\b\b\b\b\b\b\b\b\b\b\b\b\b\b\b\b\b\b\b\b\b\b\b\b\b\b\b\b\b\b\b\b\b\b\n",
      "1/1 [==============================] - 0s 27ms/step - loss: 0.2725\b\b\b\b\b\b\b\b\b\b\b\b\b\b\b\b\b\b\b\b\b\b\b\b\b\b\b\b\b\b\b\b\b\b\b\b\b\b\b\b\b\b\b\b\b\b\b\b\b\b\b\b\b\b\b\b\n",
      "Test Score is : 0.2725480794906616 \n",
      " Train Score is : 0.08456901460886002\n",
      "\n",
      " MSE :  2649.846710892395\n"
     ]
    },
    {
     "name": "stderr",
     "output_type": "stream",
     "text": [
      "<ipython-input-348-ae21477278f5>:32: SettingWithCopyWarning: \n",
      "A value is trying to be set on a copy of a slice from a DataFrame.\n",
      "Try using .loc[row_indexer,col_indexer] = value instead\n",
      "\n",
      "See the caveats in the documentation: https://pandas.pydata.org/pandas-docs/stable/user_guide/indexing.html#returning-a-view-versus-a-copy\n",
      "  new_test['pred'] = true_predictions\n"
     ]
    },
    {
     "data": {
      "text/plain": "<Figure size 432x288 with 1 Axes>",
      "image/png": "[encoded data removed]"
     },
     "metadata": {
      "needs_background": "light"
     },
     "output_type": "display_data"
    }
   ],
   "source": [
    "predict_country('Bahrain')"
   ],
   "metadata": {
    "collapsed": false,
    "pycharm": {
     "name": "#%%\n"
    }
   }
  },
  {
   "cell_type": "code",
   "execution_count": 343,
   "outputs": [],
   "source": [],
   "metadata": {
    "collapsed": false,
    "pycharm": {
     "name": "#%%\n"
    }
   }
  }
 ],
 "metadata": {
  "kernelspec": {
   "display_name": "Python 3",
   "language": "python",
   "name": "python3"
  },
  "language_info": {
   "codemirror_mode": {
    "name": "ipython",
    "version": 2
   },
   "file_extension": ".py",
   "mimetype": "text/x-python",
   "name": "python",
   "nbconvert_exporter": "python",
   "pygments_lexer": "ipython2",
   "version": "2.7.6"
  }
 },
 "nbformat": 4,
 "nbformat_minor": 0
}